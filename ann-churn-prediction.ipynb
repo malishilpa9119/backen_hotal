{
 "cells": [
  {
   "cell_type": "code",
   "execution_count": 1,
   "id": "5084d603",
   "metadata": {
    "_cell_guid": "b1076dfc-b9ad-4769-8c92-a6c4dae69d19",
    "_uuid": "8f2839f25d086af736a60e9eeb907d3b93b6e0e5",
    "execution": {
     "iopub.execute_input": "2025-09-20T08:08:51.547760Z",
     "iopub.status.busy": "2025-09-20T08:08:51.547433Z",
     "iopub.status.idle": "2025-09-20T08:08:53.304973Z",
     "shell.execute_reply": "2025-09-20T08:08:53.303906Z"
    },
    "papermill": {
     "duration": 1.766746,
     "end_time": "2025-09-20T08:08:53.306623",
     "exception": false,
     "start_time": "2025-09-20T08:08:51.539877",
     "status": "completed"
    },
    "tags": []
   },
   "outputs": [
    {
     "name": "stdout",
     "output_type": "stream",
     "text": [
      "/kaggle/input/credit-card-customer-churn-prediction/Churn_Modelling.csv\n",
      "/kaggle/input/churn_prediction/keras/default/1/ann-churn-prediction.ipynb\n"
     ]
    }
   ],
   "source": [
    "# This Python 3 environment comes with many helpful analytics libraries installed\n",
    "# It is defined by the kaggle/python Docker image: https://github.com/kaggle/docker-python\n",
    "# For example, here's several helpful packages to load\n",
    "\n",
    "import numpy as np # linear algebra\n",
    "import pandas as pd # data processing, CSV file I/O (e.g. pd.read_csv)\n",
    "\n",
    "# Input data files are available in the read-only \"../input/\" directory\n",
    "# For example, running this (by clicking run or pressing Shift+Enter) will list all files under the input directory\n",
    "\n",
    "import os\n",
    "for dirname, _, filenames in os.walk('/kaggle/input'):\n",
    "    for filename in filenames:\n",
    "        print(os.path.join(dirname, filename))\n",
    "\n",
    "# You can write up to 20GB to the current directory (/kaggle/working/) that gets preserved as output when you create a version using \"Save & Run All\" \n",
    "# You can also write temporary files to /kaggle/temp/, but they won't be saved outside of the current session"
   ]
  },
  {
   "cell_type": "code",
   "execution_count": 2,
   "id": "0f7f5b35",
   "metadata": {
    "execution": {
     "iopub.execute_input": "2025-09-20T08:08:53.318777Z",
     "iopub.status.busy": "2025-09-20T08:08:53.318368Z",
     "iopub.status.idle": "2025-09-20T08:08:53.380296Z",
     "shell.execute_reply": "2025-09-20T08:08:53.379472Z"
    },
    "papermill": {
     "duration": 0.069492,
     "end_time": "2025-09-20T08:08:53.381913",
     "exception": false,
     "start_time": "2025-09-20T08:08:53.312421",
     "status": "completed"
    },
    "tags": []
   },
   "outputs": [],
   "source": [
    "df = pd.read_csv('/kaggle/input/credit-card-customer-churn-prediction/Churn_Modelling.csv')"
   ]
  },
  {
   "cell_type": "code",
   "execution_count": 3,
   "id": "e9cfae43",
   "metadata": {
    "execution": {
     "iopub.execute_input": "2025-09-20T08:08:53.393505Z",
     "iopub.status.busy": "2025-09-20T08:08:53.393202Z",
     "iopub.status.idle": "2025-09-20T08:08:53.418107Z",
     "shell.execute_reply": "2025-09-20T08:08:53.417395Z"
    },
    "papermill": {
     "duration": 0.032177,
     "end_time": "2025-09-20T08:08:53.419571",
     "exception": false,
     "start_time": "2025-09-20T08:08:53.387394",
     "status": "completed"
    },
    "tags": []
   },
   "outputs": [
    {
     "data": {
      "text/html": [
       "<div>\n",
       "<style scoped>\n",
       "    .dataframe tbody tr th:only-of-type {\n",
       "        vertical-align: middle;\n",
       "    }\n",
       "\n",
       "    .dataframe tbody tr th {\n",
       "        vertical-align: top;\n",
       "    }\n",
       "\n",
       "    .dataframe thead th {\n",
       "        text-align: right;\n",
       "    }\n",
       "</style>\n",
       "<table border=\"1\" class=\"dataframe\">\n",
       "  <thead>\n",
       "    <tr style=\"text-align: right;\">\n",
       "      <th></th>\n",
       "      <th>RowNumber</th>\n",
       "      <th>CustomerId</th>\n",
       "      <th>Surname</th>\n",
       "      <th>CreditScore</th>\n",
       "      <th>Geography</th>\n",
       "      <th>Gender</th>\n",
       "      <th>Age</th>\n",
       "      <th>Tenure</th>\n",
       "      <th>Balance</th>\n",
       "      <th>NumOfProducts</th>\n",
       "      <th>HasCrCard</th>\n",
       "      <th>IsActiveMember</th>\n",
       "      <th>EstimatedSalary</th>\n",
       "      <th>Exited</th>\n",
       "    </tr>\n",
       "  </thead>\n",
       "  <tbody>\n",
       "    <tr>\n",
       "      <th>0</th>\n",
       "      <td>1</td>\n",
       "      <td>15634602</td>\n",
       "      <td>Hargrave</td>\n",
       "      <td>619</td>\n",
       "      <td>France</td>\n",
       "      <td>Female</td>\n",
       "      <td>42</td>\n",
       "      <td>2</td>\n",
       "      <td>0.00</td>\n",
       "      <td>1</td>\n",
       "      <td>1</td>\n",
       "      <td>1</td>\n",
       "      <td>101348.88</td>\n",
       "      <td>1</td>\n",
       "    </tr>\n",
       "    <tr>\n",
       "      <th>1</th>\n",
       "      <td>2</td>\n",
       "      <td>15647311</td>\n",
       "      <td>Hill</td>\n",
       "      <td>608</td>\n",
       "      <td>Spain</td>\n",
       "      <td>Female</td>\n",
       "      <td>41</td>\n",
       "      <td>1</td>\n",
       "      <td>83807.86</td>\n",
       "      <td>1</td>\n",
       "      <td>0</td>\n",
       "      <td>1</td>\n",
       "      <td>112542.58</td>\n",
       "      <td>0</td>\n",
       "    </tr>\n",
       "    <tr>\n",
       "      <th>2</th>\n",
       "      <td>3</td>\n",
       "      <td>15619304</td>\n",
       "      <td>Onio</td>\n",
       "      <td>502</td>\n",
       "      <td>France</td>\n",
       "      <td>Female</td>\n",
       "      <td>42</td>\n",
       "      <td>8</td>\n",
       "      <td>159660.80</td>\n",
       "      <td>3</td>\n",
       "      <td>1</td>\n",
       "      <td>0</td>\n",
       "      <td>113931.57</td>\n",
       "      <td>1</td>\n",
       "    </tr>\n",
       "    <tr>\n",
       "      <th>3</th>\n",
       "      <td>4</td>\n",
       "      <td>15701354</td>\n",
       "      <td>Boni</td>\n",
       "      <td>699</td>\n",
       "      <td>France</td>\n",
       "      <td>Female</td>\n",
       "      <td>39</td>\n",
       "      <td>1</td>\n",
       "      <td>0.00</td>\n",
       "      <td>2</td>\n",
       "      <td>0</td>\n",
       "      <td>0</td>\n",
       "      <td>93826.63</td>\n",
       "      <td>0</td>\n",
       "    </tr>\n",
       "    <tr>\n",
       "      <th>4</th>\n",
       "      <td>5</td>\n",
       "      <td>15737888</td>\n",
       "      <td>Mitchell</td>\n",
       "      <td>850</td>\n",
       "      <td>Spain</td>\n",
       "      <td>Female</td>\n",
       "      <td>43</td>\n",
       "      <td>2</td>\n",
       "      <td>125510.82</td>\n",
       "      <td>1</td>\n",
       "      <td>1</td>\n",
       "      <td>1</td>\n",
       "      <td>79084.10</td>\n",
       "      <td>0</td>\n",
       "    </tr>\n",
       "  </tbody>\n",
       "</table>\n",
       "</div>"
      ],
      "text/plain": [
       "   RowNumber  CustomerId   Surname  CreditScore Geography  Gender  Age  \\\n",
       "0          1    15634602  Hargrave          619    France  Female   42   \n",
       "1          2    15647311      Hill          608     Spain  Female   41   \n",
       "2          3    15619304      Onio          502    France  Female   42   \n",
       "3          4    15701354      Boni          699    France  Female   39   \n",
       "4          5    15737888  Mitchell          850     Spain  Female   43   \n",
       "\n",
       "   Tenure    Balance  NumOfProducts  HasCrCard  IsActiveMember  \\\n",
       "0       2       0.00              1          1               1   \n",
       "1       1   83807.86              1          0               1   \n",
       "2       8  159660.80              3          1               0   \n",
       "3       1       0.00              2          0               0   \n",
       "4       2  125510.82              1          1               1   \n",
       "\n",
       "   EstimatedSalary  Exited  \n",
       "0        101348.88       1  \n",
       "1        112542.58       0  \n",
       "2        113931.57       1  \n",
       "3         93826.63       0  \n",
       "4         79084.10       0  "
      ]
     },
     "execution_count": 3,
     "metadata": {},
     "output_type": "execute_result"
    }
   ],
   "source": [
    "df.head()"
   ]
  },
  {
   "cell_type": "code",
   "execution_count": 4,
   "id": "743a878f",
   "metadata": {
    "execution": {
     "iopub.execute_input": "2025-09-20T08:08:53.431978Z",
     "iopub.status.busy": "2025-09-20T08:08:53.431677Z",
     "iopub.status.idle": "2025-09-20T08:08:53.436422Z",
     "shell.execute_reply": "2025-09-20T08:08:53.435540Z"
    },
    "papermill": {
     "duration": 0.012359,
     "end_time": "2025-09-20T08:08:53.437664",
     "exception": false,
     "start_time": "2025-09-20T08:08:53.425305",
     "status": "completed"
    },
    "tags": []
   },
   "outputs": [
    {
     "name": "stdout",
     "output_type": "stream",
     "text": [
      "(10000, 14)\n"
     ]
    }
   ],
   "source": [
    "print(df.shape)"
   ]
  },
  {
   "cell_type": "code",
   "execution_count": 5,
   "id": "8b488441",
   "metadata": {
    "execution": {
     "iopub.execute_input": "2025-09-20T08:08:53.449407Z",
     "iopub.status.busy": "2025-09-20T08:08:53.449098Z",
     "iopub.status.idle": "2025-09-20T08:08:53.473222Z",
     "shell.execute_reply": "2025-09-20T08:08:53.472467Z"
    },
    "papermill": {
     "duration": 0.03177,
     "end_time": "2025-09-20T08:08:53.474801",
     "exception": false,
     "start_time": "2025-09-20T08:08:53.443031",
     "status": "completed"
    },
    "tags": []
   },
   "outputs": [
    {
     "name": "stdout",
     "output_type": "stream",
     "text": [
      "<class 'pandas.core.frame.DataFrame'>\n",
      "RangeIndex: 10000 entries, 0 to 9999\n",
      "Data columns (total 14 columns):\n",
      " #   Column           Non-Null Count  Dtype  \n",
      "---  ------           --------------  -----  \n",
      " 0   RowNumber        10000 non-null  int64  \n",
      " 1   CustomerId       10000 non-null  int64  \n",
      " 2   Surname          10000 non-null  object \n",
      " 3   CreditScore      10000 non-null  int64  \n",
      " 4   Geography        10000 non-null  object \n",
      " 5   Gender           10000 non-null  object \n",
      " 6   Age              10000 non-null  int64  \n",
      " 7   Tenure           10000 non-null  int64  \n",
      " 8   Balance          10000 non-null  float64\n",
      " 9   NumOfProducts    10000 non-null  int64  \n",
      " 10  HasCrCard        10000 non-null  int64  \n",
      " 11  IsActiveMember   10000 non-null  int64  \n",
      " 12  EstimatedSalary  10000 non-null  float64\n",
      " 13  Exited           10000 non-null  int64  \n",
      "dtypes: float64(2), int64(9), object(3)\n",
      "memory usage: 1.1+ MB\n"
     ]
    }
   ],
   "source": [
    "df.info()"
   ]
  },
  {
   "cell_type": "code",
   "execution_count": 6,
   "id": "8ad22b83",
   "metadata": {
    "execution": {
     "iopub.execute_input": "2025-09-20T08:08:53.486999Z",
     "iopub.status.busy": "2025-09-20T08:08:53.486475Z",
     "iopub.status.idle": "2025-09-20T08:08:53.497905Z",
     "shell.execute_reply": "2025-09-20T08:08:53.497034Z"
    },
    "papermill": {
     "duration": 0.018912,
     "end_time": "2025-09-20T08:08:53.499294",
     "exception": false,
     "start_time": "2025-09-20T08:08:53.480382",
     "status": "completed"
    },
    "tags": []
   },
   "outputs": [
    {
     "data": {
      "text/plain": [
       "0"
      ]
     },
     "execution_count": 6,
     "metadata": {},
     "output_type": "execute_result"
    }
   ],
   "source": [
    "df.duplicated().sum()"
   ]
  },
  {
   "cell_type": "code",
   "execution_count": 7,
   "id": "d49b5784",
   "metadata": {
    "execution": {
     "iopub.execute_input": "2025-09-20T08:08:53.512008Z",
     "iopub.status.busy": "2025-09-20T08:08:53.511739Z",
     "iopub.status.idle": "2025-09-20T08:08:53.519655Z",
     "shell.execute_reply": "2025-09-20T08:08:53.518817Z"
    },
    "papermill": {
     "duration": 0.015185,
     "end_time": "2025-09-20T08:08:53.520870",
     "exception": false,
     "start_time": "2025-09-20T08:08:53.505685",
     "status": "completed"
    },
    "tags": []
   },
   "outputs": [
    {
     "data": {
      "text/plain": [
       "Exited\n",
       "0    7963\n",
       "1    2037\n",
       "Name: count, dtype: int64"
      ]
     },
     "execution_count": 7,
     "metadata": {},
     "output_type": "execute_result"
    }
   ],
   "source": [
    "df['Exited'].value_counts()"
   ]
  },
  {
   "cell_type": "code",
   "execution_count": 8,
   "id": "fd19ef34",
   "metadata": {
    "execution": {
     "iopub.execute_input": "2025-09-20T08:08:53.533527Z",
     "iopub.status.busy": "2025-09-20T08:08:53.533204Z",
     "iopub.status.idle": "2025-09-20T08:08:53.540871Z",
     "shell.execute_reply": "2025-09-20T08:08:53.540012Z"
    },
    "papermill": {
     "duration": 0.015189,
     "end_time": "2025-09-20T08:08:53.542144",
     "exception": false,
     "start_time": "2025-09-20T08:08:53.526955",
     "status": "completed"
    },
    "tags": []
   },
   "outputs": [
    {
     "data": {
      "text/plain": [
       "Geography\n",
       "France     5014\n",
       "Germany    2509\n",
       "Spain      2477\n",
       "Name: count, dtype: int64"
      ]
     },
     "execution_count": 8,
     "metadata": {},
     "output_type": "execute_result"
    }
   ],
   "source": [
    "df['Geography'].value_counts()"
   ]
  },
  {
   "cell_type": "code",
   "execution_count": 9,
   "id": "4b45b176",
   "metadata": {
    "execution": {
     "iopub.execute_input": "2025-09-20T08:08:53.554568Z",
     "iopub.status.busy": "2025-09-20T08:08:53.554231Z",
     "iopub.status.idle": "2025-09-20T08:08:53.560935Z",
     "shell.execute_reply": "2025-09-20T08:08:53.560307Z"
    },
    "papermill": {
     "duration": 0.014385,
     "end_time": "2025-09-20T08:08:53.562129",
     "exception": false,
     "start_time": "2025-09-20T08:08:53.547744",
     "status": "completed"
    },
    "tags": []
   },
   "outputs": [
    {
     "data": {
      "text/plain": [
       "Gender\n",
       "Male      5457\n",
       "Female    4543\n",
       "Name: count, dtype: int64"
      ]
     },
     "execution_count": 9,
     "metadata": {},
     "output_type": "execute_result"
    }
   ],
   "source": [
    "df['Gender'].value_counts()"
   ]
  },
  {
   "cell_type": "code",
   "execution_count": 10,
   "id": "6a33d1a1",
   "metadata": {
    "execution": {
     "iopub.execute_input": "2025-09-20T08:08:53.574414Z",
     "iopub.status.busy": "2025-09-20T08:08:53.574134Z",
     "iopub.status.idle": "2025-09-20T08:08:53.581673Z",
     "shell.execute_reply": "2025-09-20T08:08:53.581000Z"
    },
    "papermill": {
     "duration": 0.015075,
     "end_time": "2025-09-20T08:08:53.582993",
     "exception": false,
     "start_time": "2025-09-20T08:08:53.567918",
     "status": "completed"
    },
    "tags": []
   },
   "outputs": [],
   "source": [
    "df.drop(columns=['RowNumber','CustomerId','Surname'],inplace=True)"
   ]
  },
  {
   "cell_type": "code",
   "execution_count": 11,
   "id": "da8cfb71",
   "metadata": {
    "execution": {
     "iopub.execute_input": "2025-09-20T08:08:53.595715Z",
     "iopub.status.busy": "2025-09-20T08:08:53.595427Z",
     "iopub.status.idle": "2025-09-20T08:08:53.607064Z",
     "shell.execute_reply": "2025-09-20T08:08:53.606180Z"
    },
    "papermill": {
     "duration": 0.019414,
     "end_time": "2025-09-20T08:08:53.608349",
     "exception": false,
     "start_time": "2025-09-20T08:08:53.588935",
     "status": "completed"
    },
    "tags": []
   },
   "outputs": [
    {
     "data": {
      "text/html": [
       "<div>\n",
       "<style scoped>\n",
       "    .dataframe tbody tr th:only-of-type {\n",
       "        vertical-align: middle;\n",
       "    }\n",
       "\n",
       "    .dataframe tbody tr th {\n",
       "        vertical-align: top;\n",
       "    }\n",
       "\n",
       "    .dataframe thead th {\n",
       "        text-align: right;\n",
       "    }\n",
       "</style>\n",
       "<table border=\"1\" class=\"dataframe\">\n",
       "  <thead>\n",
       "    <tr style=\"text-align: right;\">\n",
       "      <th></th>\n",
       "      <th>CreditScore</th>\n",
       "      <th>Geography</th>\n",
       "      <th>Gender</th>\n",
       "      <th>Age</th>\n",
       "      <th>Tenure</th>\n",
       "      <th>Balance</th>\n",
       "      <th>NumOfProducts</th>\n",
       "      <th>HasCrCard</th>\n",
       "      <th>IsActiveMember</th>\n",
       "      <th>EstimatedSalary</th>\n",
       "      <th>Exited</th>\n",
       "    </tr>\n",
       "  </thead>\n",
       "  <tbody>\n",
       "    <tr>\n",
       "      <th>0</th>\n",
       "      <td>619</td>\n",
       "      <td>France</td>\n",
       "      <td>Female</td>\n",
       "      <td>42</td>\n",
       "      <td>2</td>\n",
       "      <td>0.00</td>\n",
       "      <td>1</td>\n",
       "      <td>1</td>\n",
       "      <td>1</td>\n",
       "      <td>101348.88</td>\n",
       "      <td>1</td>\n",
       "    </tr>\n",
       "    <tr>\n",
       "      <th>1</th>\n",
       "      <td>608</td>\n",
       "      <td>Spain</td>\n",
       "      <td>Female</td>\n",
       "      <td>41</td>\n",
       "      <td>1</td>\n",
       "      <td>83807.86</td>\n",
       "      <td>1</td>\n",
       "      <td>0</td>\n",
       "      <td>1</td>\n",
       "      <td>112542.58</td>\n",
       "      <td>0</td>\n",
       "    </tr>\n",
       "    <tr>\n",
       "      <th>2</th>\n",
       "      <td>502</td>\n",
       "      <td>France</td>\n",
       "      <td>Female</td>\n",
       "      <td>42</td>\n",
       "      <td>8</td>\n",
       "      <td>159660.80</td>\n",
       "      <td>3</td>\n",
       "      <td>1</td>\n",
       "      <td>0</td>\n",
       "      <td>113931.57</td>\n",
       "      <td>1</td>\n",
       "    </tr>\n",
       "    <tr>\n",
       "      <th>3</th>\n",
       "      <td>699</td>\n",
       "      <td>France</td>\n",
       "      <td>Female</td>\n",
       "      <td>39</td>\n",
       "      <td>1</td>\n",
       "      <td>0.00</td>\n",
       "      <td>2</td>\n",
       "      <td>0</td>\n",
       "      <td>0</td>\n",
       "      <td>93826.63</td>\n",
       "      <td>0</td>\n",
       "    </tr>\n",
       "    <tr>\n",
       "      <th>4</th>\n",
       "      <td>850</td>\n",
       "      <td>Spain</td>\n",
       "      <td>Female</td>\n",
       "      <td>43</td>\n",
       "      <td>2</td>\n",
       "      <td>125510.82</td>\n",
       "      <td>1</td>\n",
       "      <td>1</td>\n",
       "      <td>1</td>\n",
       "      <td>79084.10</td>\n",
       "      <td>0</td>\n",
       "    </tr>\n",
       "  </tbody>\n",
       "</table>\n",
       "</div>"
      ],
      "text/plain": [
       "   CreditScore Geography  Gender  Age  Tenure    Balance  NumOfProducts  \\\n",
       "0          619    France  Female   42       2       0.00              1   \n",
       "1          608     Spain  Female   41       1   83807.86              1   \n",
       "2          502    France  Female   42       8  159660.80              3   \n",
       "3          699    France  Female   39       1       0.00              2   \n",
       "4          850     Spain  Female   43       2  125510.82              1   \n",
       "\n",
       "   HasCrCard  IsActiveMember  EstimatedSalary  Exited  \n",
       "0          1               1        101348.88       1  \n",
       "1          0               1        112542.58       0  \n",
       "2          1               0        113931.57       1  \n",
       "3          0               0         93826.63       0  \n",
       "4          1               1         79084.10       0  "
      ]
     },
     "execution_count": 11,
     "metadata": {},
     "output_type": "execute_result"
    }
   ],
   "source": [
    "df.head()"
   ]
  },
  {
   "cell_type": "code",
   "execution_count": 12,
   "id": "76e20fcc",
   "metadata": {
    "execution": {
     "iopub.execute_input": "2025-09-20T08:08:53.621217Z",
     "iopub.status.busy": "2025-09-20T08:08:53.620961Z",
     "iopub.status.idle": "2025-09-20T08:08:53.634230Z",
     "shell.execute_reply": "2025-09-20T08:08:53.633083Z"
    },
    "papermill": {
     "duration": 0.021518,
     "end_time": "2025-09-20T08:08:53.635870",
     "exception": false,
     "start_time": "2025-09-20T08:08:53.614352",
     "status": "completed"
    },
    "tags": []
   },
   "outputs": [],
   "source": [
    "df = pd.get_dummies(df,columns=['Geography','Gender'],drop_first=True,dtype='int')"
   ]
  },
  {
   "cell_type": "code",
   "execution_count": 13,
   "id": "e7fe549a",
   "metadata": {
    "execution": {
     "iopub.execute_input": "2025-09-20T08:08:53.651789Z",
     "iopub.status.busy": "2025-09-20T08:08:53.651513Z",
     "iopub.status.idle": "2025-09-20T08:08:53.669720Z",
     "shell.execute_reply": "2025-09-20T08:08:53.668886Z"
    },
    "papermill": {
     "duration": 0.027349,
     "end_time": "2025-09-20T08:08:53.671158",
     "exception": false,
     "start_time": "2025-09-20T08:08:53.643809",
     "status": "completed"
    },
    "tags": []
   },
   "outputs": [
    {
     "data": {
      "text/html": [
       "<div>\n",
       "<style scoped>\n",
       "    .dataframe tbody tr th:only-of-type {\n",
       "        vertical-align: middle;\n",
       "    }\n",
       "\n",
       "    .dataframe tbody tr th {\n",
       "        vertical-align: top;\n",
       "    }\n",
       "\n",
       "    .dataframe thead th {\n",
       "        text-align: right;\n",
       "    }\n",
       "</style>\n",
       "<table border=\"1\" class=\"dataframe\">\n",
       "  <thead>\n",
       "    <tr style=\"text-align: right;\">\n",
       "      <th></th>\n",
       "      <th>CreditScore</th>\n",
       "      <th>Age</th>\n",
       "      <th>Tenure</th>\n",
       "      <th>Balance</th>\n",
       "      <th>NumOfProducts</th>\n",
       "      <th>HasCrCard</th>\n",
       "      <th>IsActiveMember</th>\n",
       "      <th>EstimatedSalary</th>\n",
       "      <th>Exited</th>\n",
       "      <th>Geography_Germany</th>\n",
       "      <th>Geography_Spain</th>\n",
       "      <th>Gender_Male</th>\n",
       "    </tr>\n",
       "  </thead>\n",
       "  <tbody>\n",
       "    <tr>\n",
       "      <th>0</th>\n",
       "      <td>619</td>\n",
       "      <td>42</td>\n",
       "      <td>2</td>\n",
       "      <td>0.00</td>\n",
       "      <td>1</td>\n",
       "      <td>1</td>\n",
       "      <td>1</td>\n",
       "      <td>101348.88</td>\n",
       "      <td>1</td>\n",
       "      <td>0</td>\n",
       "      <td>0</td>\n",
       "      <td>0</td>\n",
       "    </tr>\n",
       "    <tr>\n",
       "      <th>1</th>\n",
       "      <td>608</td>\n",
       "      <td>41</td>\n",
       "      <td>1</td>\n",
       "      <td>83807.86</td>\n",
       "      <td>1</td>\n",
       "      <td>0</td>\n",
       "      <td>1</td>\n",
       "      <td>112542.58</td>\n",
       "      <td>0</td>\n",
       "      <td>0</td>\n",
       "      <td>1</td>\n",
       "      <td>0</td>\n",
       "    </tr>\n",
       "    <tr>\n",
       "      <th>2</th>\n",
       "      <td>502</td>\n",
       "      <td>42</td>\n",
       "      <td>8</td>\n",
       "      <td>159660.80</td>\n",
       "      <td>3</td>\n",
       "      <td>1</td>\n",
       "      <td>0</td>\n",
       "      <td>113931.57</td>\n",
       "      <td>1</td>\n",
       "      <td>0</td>\n",
       "      <td>0</td>\n",
       "      <td>0</td>\n",
       "    </tr>\n",
       "    <tr>\n",
       "      <th>3</th>\n",
       "      <td>699</td>\n",
       "      <td>39</td>\n",
       "      <td>1</td>\n",
       "      <td>0.00</td>\n",
       "      <td>2</td>\n",
       "      <td>0</td>\n",
       "      <td>0</td>\n",
       "      <td>93826.63</td>\n",
       "      <td>0</td>\n",
       "      <td>0</td>\n",
       "      <td>0</td>\n",
       "      <td>0</td>\n",
       "    </tr>\n",
       "    <tr>\n",
       "      <th>4</th>\n",
       "      <td>850</td>\n",
       "      <td>43</td>\n",
       "      <td>2</td>\n",
       "      <td>125510.82</td>\n",
       "      <td>1</td>\n",
       "      <td>1</td>\n",
       "      <td>1</td>\n",
       "      <td>79084.10</td>\n",
       "      <td>0</td>\n",
       "      <td>0</td>\n",
       "      <td>1</td>\n",
       "      <td>0</td>\n",
       "    </tr>\n",
       "    <tr>\n",
       "      <th>...</th>\n",
       "      <td>...</td>\n",
       "      <td>...</td>\n",
       "      <td>...</td>\n",
       "      <td>...</td>\n",
       "      <td>...</td>\n",
       "      <td>...</td>\n",
       "      <td>...</td>\n",
       "      <td>...</td>\n",
       "      <td>...</td>\n",
       "      <td>...</td>\n",
       "      <td>...</td>\n",
       "      <td>...</td>\n",
       "    </tr>\n",
       "    <tr>\n",
       "      <th>9995</th>\n",
       "      <td>771</td>\n",
       "      <td>39</td>\n",
       "      <td>5</td>\n",
       "      <td>0.00</td>\n",
       "      <td>2</td>\n",
       "      <td>1</td>\n",
       "      <td>0</td>\n",
       "      <td>96270.64</td>\n",
       "      <td>0</td>\n",
       "      <td>0</td>\n",
       "      <td>0</td>\n",
       "      <td>1</td>\n",
       "    </tr>\n",
       "    <tr>\n",
       "      <th>9996</th>\n",
       "      <td>516</td>\n",
       "      <td>35</td>\n",
       "      <td>10</td>\n",
       "      <td>57369.61</td>\n",
       "      <td>1</td>\n",
       "      <td>1</td>\n",
       "      <td>1</td>\n",
       "      <td>101699.77</td>\n",
       "      <td>0</td>\n",
       "      <td>0</td>\n",
       "      <td>0</td>\n",
       "      <td>1</td>\n",
       "    </tr>\n",
       "    <tr>\n",
       "      <th>9997</th>\n",
       "      <td>709</td>\n",
       "      <td>36</td>\n",
       "      <td>7</td>\n",
       "      <td>0.00</td>\n",
       "      <td>1</td>\n",
       "      <td>0</td>\n",
       "      <td>1</td>\n",
       "      <td>42085.58</td>\n",
       "      <td>1</td>\n",
       "      <td>0</td>\n",
       "      <td>0</td>\n",
       "      <td>0</td>\n",
       "    </tr>\n",
       "    <tr>\n",
       "      <th>9998</th>\n",
       "      <td>772</td>\n",
       "      <td>42</td>\n",
       "      <td>3</td>\n",
       "      <td>75075.31</td>\n",
       "      <td>2</td>\n",
       "      <td>1</td>\n",
       "      <td>0</td>\n",
       "      <td>92888.52</td>\n",
       "      <td>1</td>\n",
       "      <td>1</td>\n",
       "      <td>0</td>\n",
       "      <td>1</td>\n",
       "    </tr>\n",
       "    <tr>\n",
       "      <th>9999</th>\n",
       "      <td>792</td>\n",
       "      <td>28</td>\n",
       "      <td>4</td>\n",
       "      <td>130142.79</td>\n",
       "      <td>1</td>\n",
       "      <td>1</td>\n",
       "      <td>0</td>\n",
       "      <td>38190.78</td>\n",
       "      <td>0</td>\n",
       "      <td>0</td>\n",
       "      <td>0</td>\n",
       "      <td>0</td>\n",
       "    </tr>\n",
       "  </tbody>\n",
       "</table>\n",
       "<p>10000 rows × 12 columns</p>\n",
       "</div>"
      ],
      "text/plain": [
       "      CreditScore  Age  Tenure    Balance  NumOfProducts  HasCrCard  \\\n",
       "0             619   42       2       0.00              1          1   \n",
       "1             608   41       1   83807.86              1          0   \n",
       "2             502   42       8  159660.80              3          1   \n",
       "3             699   39       1       0.00              2          0   \n",
       "4             850   43       2  125510.82              1          1   \n",
       "...           ...  ...     ...        ...            ...        ...   \n",
       "9995          771   39       5       0.00              2          1   \n",
       "9996          516   35      10   57369.61              1          1   \n",
       "9997          709   36       7       0.00              1          0   \n",
       "9998          772   42       3   75075.31              2          1   \n",
       "9999          792   28       4  130142.79              1          1   \n",
       "\n",
       "      IsActiveMember  EstimatedSalary  Exited  Geography_Germany  \\\n",
       "0                  1        101348.88       1                  0   \n",
       "1                  1        112542.58       0                  0   \n",
       "2                  0        113931.57       1                  0   \n",
       "3                  0         93826.63       0                  0   \n",
       "4                  1         79084.10       0                  0   \n",
       "...              ...              ...     ...                ...   \n",
       "9995               0         96270.64       0                  0   \n",
       "9996               1        101699.77       0                  0   \n",
       "9997               1         42085.58       1                  0   \n",
       "9998               0         92888.52       1                  1   \n",
       "9999               0         38190.78       0                  0   \n",
       "\n",
       "      Geography_Spain  Gender_Male  \n",
       "0                   0            0  \n",
       "1                   1            0  \n",
       "2                   0            0  \n",
       "3                   0            0  \n",
       "4                   1            0  \n",
       "...               ...          ...  \n",
       "9995                0            1  \n",
       "9996                0            1  \n",
       "9997                0            0  \n",
       "9998                0            1  \n",
       "9999                0            0  \n",
       "\n",
       "[10000 rows x 12 columns]"
      ]
     },
     "execution_count": 13,
     "metadata": {},
     "output_type": "execute_result"
    }
   ],
   "source": [
    "df"
   ]
  },
  {
   "cell_type": "code",
   "execution_count": 14,
   "id": "c3f0c56e",
   "metadata": {
    "execution": {
     "iopub.execute_input": "2025-09-20T08:08:53.687547Z",
     "iopub.status.busy": "2025-09-20T08:08:53.686899Z",
     "iopub.status.idle": "2025-09-20T08:08:55.217775Z",
     "shell.execute_reply": "2025-09-20T08:08:55.216953Z"
    },
    "papermill": {
     "duration": 1.539574,
     "end_time": "2025-09-20T08:08:55.219307",
     "exception": false,
     "start_time": "2025-09-20T08:08:53.679733",
     "status": "completed"
    },
    "tags": []
   },
   "outputs": [],
   "source": [
    "X = df.drop(columns=['Exited'])\n",
    "y = df['Exited']\n",
    "from sklearn.model_selection import train_test_split\n",
    "X_train,X_test,y_train,y_test = train_test_split(X,y,test_size=0.2,random_state=42)"
   ]
  },
  {
   "cell_type": "code",
   "execution_count": 15,
   "id": "095c400e",
   "metadata": {
    "execution": {
     "iopub.execute_input": "2025-09-20T08:08:55.233061Z",
     "iopub.status.busy": "2025-09-20T08:08:55.232666Z",
     "iopub.status.idle": "2025-09-20T08:08:55.238496Z",
     "shell.execute_reply": "2025-09-20T08:08:55.237674Z"
    },
    "papermill": {
     "duration": 0.014264,
     "end_time": "2025-09-20T08:08:55.239813",
     "exception": false,
     "start_time": "2025-09-20T08:08:55.225549",
     "status": "completed"
    },
    "tags": []
   },
   "outputs": [
    {
     "data": {
      "text/plain": [
       "(8000, 11)"
      ]
     },
     "execution_count": 15,
     "metadata": {},
     "output_type": "execute_result"
    }
   ],
   "source": [
    "X_train.shape"
   ]
  },
  {
   "cell_type": "code",
   "execution_count": 16,
   "id": "9c2d360d",
   "metadata": {
    "execution": {
     "iopub.execute_input": "2025-09-20T08:08:55.253896Z",
     "iopub.status.busy": "2025-09-20T08:08:55.253602Z",
     "iopub.status.idle": "2025-09-20T08:08:55.277634Z",
     "shell.execute_reply": "2025-09-20T08:08:55.276715Z"
    },
    "papermill": {
     "duration": 0.032903,
     "end_time": "2025-09-20T08:08:55.279184",
     "exception": false,
     "start_time": "2025-09-20T08:08:55.246281",
     "status": "completed"
    },
    "tags": []
   },
   "outputs": [],
   "source": [
    "from sklearn.preprocessing import StandardScaler\n",
    "scaler = StandardScaler()\n",
    "\n",
    "X_train_scaled = scaler.fit_transform(X_train)\n",
    "X_test_scaled = scaler.transform(X_test)"
   ]
  },
  {
   "cell_type": "code",
   "execution_count": 17,
   "id": "cb00cba5",
   "metadata": {
    "execution": {
     "iopub.execute_input": "2025-09-20T08:08:55.293336Z",
     "iopub.status.busy": "2025-09-20T08:08:55.293016Z",
     "iopub.status.idle": "2025-09-20T08:08:55.298887Z",
     "shell.execute_reply": "2025-09-20T08:08:55.298068Z"
    },
    "papermill": {
     "duration": 0.014415,
     "end_time": "2025-09-20T08:08:55.300107",
     "exception": false,
     "start_time": "2025-09-20T08:08:55.285692",
     "status": "completed"
    },
    "tags": []
   },
   "outputs": [
    {
     "data": {
      "text/plain": [
       "array([[ 0.35649971, -0.6557859 ,  0.34567966, ..., -0.57946723,\n",
       "        -0.57638802,  0.91324755],\n",
       "       [-0.20389777,  0.29493847, -0.3483691 , ...,  1.72572313,\n",
       "        -0.57638802,  0.91324755],\n",
       "       [-0.96147213, -1.41636539, -0.69539349, ..., -0.57946723,\n",
       "         1.73494238,  0.91324755],\n",
       "       ...,\n",
       "       [ 0.86500853, -0.08535128, -1.38944225, ..., -0.57946723,\n",
       "        -0.57638802, -1.09499335],\n",
       "       [ 0.15932282,  0.3900109 ,  1.03972843, ..., -0.57946723,\n",
       "        -0.57638802,  0.91324755],\n",
       "       [ 0.47065475,  1.15059039, -1.38944225, ...,  1.72572313,\n",
       "        -0.57638802,  0.91324755]])"
      ]
     },
     "execution_count": 17,
     "metadata": {},
     "output_type": "execute_result"
    }
   ],
   "source": [
    "X_train_scaled"
   ]
  },
  {
   "cell_type": "code",
   "execution_count": 18,
   "id": "955d561f",
   "metadata": {
    "execution": {
     "iopub.execute_input": "2025-09-20T08:08:55.314003Z",
     "iopub.status.busy": "2025-09-20T08:08:55.313716Z",
     "iopub.status.idle": "2025-09-20T08:09:10.874872Z",
     "shell.execute_reply": "2025-09-20T08:09:10.874113Z"
    },
    "papermill": {
     "duration": 15.569937,
     "end_time": "2025-09-20T08:09:10.876472",
     "exception": false,
     "start_time": "2025-09-20T08:08:55.306535",
     "status": "completed"
    },
    "tags": []
   },
   "outputs": [
    {
     "name": "stderr",
     "output_type": "stream",
     "text": [
      "2025-09-20 08:08:56.982988: E external/local_xla/xla/stream_executor/cuda/cuda_fft.cc:477] Unable to register cuFFT factory: Attempting to register factory for plugin cuFFT when one has already been registered\n",
      "WARNING: All log messages before absl::InitializeLog() is called are written to STDERR\n",
      "E0000 00:00:1758355737.220960      13 cuda_dnn.cc:8310] Unable to register cuDNN factory: Attempting to register factory for plugin cuDNN when one has already been registered\n",
      "E0000 00:00:1758355737.288859      13 cuda_blas.cc:1418] Unable to register cuBLAS factory: Attempting to register factory for plugin cuBLAS when one has already been registered\n"
     ]
    }
   ],
   "source": [
    "import tensorflow\n",
    "from tensorflow import keras\n",
    "from tensorflow.keras import Sequential\n",
    "from tensorflow.keras.layers import Dense"
   ]
  },
  {
   "cell_type": "code",
   "execution_count": 19,
   "id": "6e2ec5cc",
   "metadata": {
    "execution": {
     "iopub.execute_input": "2025-09-20T08:09:10.891663Z",
     "iopub.status.busy": "2025-09-20T08:09:10.890657Z",
     "iopub.status.idle": "2025-09-20T08:09:10.976631Z",
     "shell.execute_reply": "2025-09-20T08:09:10.975415Z"
    },
    "papermill": {
     "duration": 0.094711,
     "end_time": "2025-09-20T08:09:10.978106",
     "exception": false,
     "start_time": "2025-09-20T08:09:10.883395",
     "status": "completed"
    },
    "tags": []
   },
   "outputs": [
    {
     "name": "stderr",
     "output_type": "stream",
     "text": [
      "/usr/local/lib/python3.11/dist-packages/keras/src/layers/core/dense.py:87: UserWarning: Do not pass an `input_shape`/`input_dim` argument to a layer. When using Sequential models, prefer using an `Input(shape)` object as the first layer in the model instead.\n",
      "  super().__init__(activity_regularizer=activity_regularizer, **kwargs)\n",
      "2025-09-20 08:09:10.900866: E external/local_xla/xla/stream_executor/cuda/cuda_driver.cc:152] failed call to cuInit: INTERNAL: CUDA error: Failed call to cuInit: UNKNOWN ERROR (303)\n"
     ]
    }
   ],
   "source": [
    "model = Sequential()   # ANN ka skeleton (ek empty model)\n",
    "\n",
    "# 1st Layer (Hidden Layer)\n",
    "model.add(Dense(11, activation='relu', input_dim=11))\n",
    "model.add(Dense(11, activation='relu'))\n",
    "# 2nd Layer (Output Layer)\n",
    "model.add(Dense(1, activation='sigmoid'))"
   ]
  },
  {
   "cell_type": "code",
   "execution_count": 20,
   "id": "0942895f",
   "metadata": {
    "execution": {
     "iopub.execute_input": "2025-09-20T08:09:10.993323Z",
     "iopub.status.busy": "2025-09-20T08:09:10.992519Z",
     "iopub.status.idle": "2025-09-20T08:09:11.007373Z",
     "shell.execute_reply": "2025-09-20T08:09:11.006497Z"
    },
    "papermill": {
     "duration": 0.023997,
     "end_time": "2025-09-20T08:09:11.009201",
     "exception": false,
     "start_time": "2025-09-20T08:09:10.985204",
     "status": "completed"
    },
    "tags": []
   },
   "outputs": [
    {
     "data": {
      "text/html": [
       "<pre style=\"white-space:pre;overflow-x:auto;line-height:normal;font-family:Menlo,'DejaVu Sans Mono',consolas,'Courier New',monospace\"><span style=\"font-weight: bold\">Model: \"sequential\"</span>\n",
       "</pre>\n"
      ],
      "text/plain": [
       "\u001b[1mModel: \"sequential\"\u001b[0m\n"
      ]
     },
     "metadata": {},
     "output_type": "display_data"
    },
    {
     "data": {
      "text/html": [
       "<pre style=\"white-space:pre;overflow-x:auto;line-height:normal;font-family:Menlo,'DejaVu Sans Mono',consolas,'Courier New',monospace\">┏━━━━━━━━━━━━━━━━━━━━━━━━━━━━━━━━━┳━━━━━━━━━━━━━━━━━━━━━━━━┳━━━━━━━━━━━━━━━┓\n",
       "┃<span style=\"font-weight: bold\"> Layer (type)                    </span>┃<span style=\"font-weight: bold\"> Output Shape           </span>┃<span style=\"font-weight: bold\">       Param # </span>┃\n",
       "┡━━━━━━━━━━━━━━━━━━━━━━━━━━━━━━━━━╇━━━━━━━━━━━━━━━━━━━━━━━━╇━━━━━━━━━━━━━━━┩\n",
       "│ dense (<span style=\"color: #0087ff; text-decoration-color: #0087ff\">Dense</span>)                   │ (<span style=\"color: #00d7ff; text-decoration-color: #00d7ff\">None</span>, <span style=\"color: #00af00; text-decoration-color: #00af00\">11</span>)             │           <span style=\"color: #00af00; text-decoration-color: #00af00\">132</span> │\n",
       "├─────────────────────────────────┼────────────────────────┼───────────────┤\n",
       "│ dense_1 (<span style=\"color: #0087ff; text-decoration-color: #0087ff\">Dense</span>)                 │ (<span style=\"color: #00d7ff; text-decoration-color: #00d7ff\">None</span>, <span style=\"color: #00af00; text-decoration-color: #00af00\">11</span>)             │           <span style=\"color: #00af00; text-decoration-color: #00af00\">132</span> │\n",
       "├─────────────────────────────────┼────────────────────────┼───────────────┤\n",
       "│ dense_2 (<span style=\"color: #0087ff; text-decoration-color: #0087ff\">Dense</span>)                 │ (<span style=\"color: #00d7ff; text-decoration-color: #00d7ff\">None</span>, <span style=\"color: #00af00; text-decoration-color: #00af00\">1</span>)              │            <span style=\"color: #00af00; text-decoration-color: #00af00\">12</span> │\n",
       "└─────────────────────────────────┴────────────────────────┴───────────────┘\n",
       "</pre>\n"
      ],
      "text/plain": [
       "┏━━━━━━━━━━━━━━━━━━━━━━━━━━━━━━━━━┳━━━━━━━━━━━━━━━━━━━━━━━━┳━━━━━━━━━━━━━━━┓\n",
       "┃\u001b[1m \u001b[0m\u001b[1mLayer (type)                   \u001b[0m\u001b[1m \u001b[0m┃\u001b[1m \u001b[0m\u001b[1mOutput Shape          \u001b[0m\u001b[1m \u001b[0m┃\u001b[1m \u001b[0m\u001b[1m      Param #\u001b[0m\u001b[1m \u001b[0m┃\n",
       "┡━━━━━━━━━━━━━━━━━━━━━━━━━━━━━━━━━╇━━━━━━━━━━━━━━━━━━━━━━━━╇━━━━━━━━━━━━━━━┩\n",
       "│ dense (\u001b[38;5;33mDense\u001b[0m)                   │ (\u001b[38;5;45mNone\u001b[0m, \u001b[38;5;34m11\u001b[0m)             │           \u001b[38;5;34m132\u001b[0m │\n",
       "├─────────────────────────────────┼────────────────────────┼───────────────┤\n",
       "│ dense_1 (\u001b[38;5;33mDense\u001b[0m)                 │ (\u001b[38;5;45mNone\u001b[0m, \u001b[38;5;34m11\u001b[0m)             │           \u001b[38;5;34m132\u001b[0m │\n",
       "├─────────────────────────────────┼────────────────────────┼───────────────┤\n",
       "│ dense_2 (\u001b[38;5;33mDense\u001b[0m)                 │ (\u001b[38;5;45mNone\u001b[0m, \u001b[38;5;34m1\u001b[0m)              │            \u001b[38;5;34m12\u001b[0m │\n",
       "└─────────────────────────────────┴────────────────────────┴───────────────┘\n"
      ]
     },
     "metadata": {},
     "output_type": "display_data"
    },
    {
     "data": {
      "text/html": [
       "<pre style=\"white-space:pre;overflow-x:auto;line-height:normal;font-family:Menlo,'DejaVu Sans Mono',consolas,'Courier New',monospace\"><span style=\"font-weight: bold\"> Total params: </span><span style=\"color: #00af00; text-decoration-color: #00af00\">276</span> (1.08 KB)\n",
       "</pre>\n"
      ],
      "text/plain": [
       "\u001b[1m Total params: \u001b[0m\u001b[38;5;34m276\u001b[0m (1.08 KB)\n"
      ]
     },
     "metadata": {},
     "output_type": "display_data"
    },
    {
     "data": {
      "text/html": [
       "<pre style=\"white-space:pre;overflow-x:auto;line-height:normal;font-family:Menlo,'DejaVu Sans Mono',consolas,'Courier New',monospace\"><span style=\"font-weight: bold\"> Trainable params: </span><span style=\"color: #00af00; text-decoration-color: #00af00\">276</span> (1.08 KB)\n",
       "</pre>\n"
      ],
      "text/plain": [
       "\u001b[1m Trainable params: \u001b[0m\u001b[38;5;34m276\u001b[0m (1.08 KB)\n"
      ]
     },
     "metadata": {},
     "output_type": "display_data"
    },
    {
     "data": {
      "text/html": [
       "<pre style=\"white-space:pre;overflow-x:auto;line-height:normal;font-family:Menlo,'DejaVu Sans Mono',consolas,'Courier New',monospace\"><span style=\"font-weight: bold\"> Non-trainable params: </span><span style=\"color: #00af00; text-decoration-color: #00af00\">0</span> (0.00 B)\n",
       "</pre>\n"
      ],
      "text/plain": [
       "\u001b[1m Non-trainable params: \u001b[0m\u001b[38;5;34m0\u001b[0m (0.00 B)\n"
      ]
     },
     "metadata": {},
     "output_type": "display_data"
    }
   ],
   "source": [
    "model.summary()"
   ]
  },
  {
   "cell_type": "code",
   "execution_count": 21,
   "id": "0f7bc95e",
   "metadata": {
    "execution": {
     "iopub.execute_input": "2025-09-20T08:09:11.024712Z",
     "iopub.status.busy": "2025-09-20T08:09:11.024394Z",
     "iopub.status.idle": "2025-09-20T08:09:11.038951Z",
     "shell.execute_reply": "2025-09-20T08:09:11.038190Z"
    },
    "papermill": {
     "duration": 0.023828,
     "end_time": "2025-09-20T08:09:11.040431",
     "exception": false,
     "start_time": "2025-09-20T08:09:11.016603",
     "status": "completed"
    },
    "tags": []
   },
   "outputs": [],
   "source": [
    "model.compile(loss='binary_crossentropy',optimizer='Adam',metrics=['accuracy'])"
   ]
  },
  {
   "cell_type": "code",
   "execution_count": 22,
   "id": "f6466090",
   "metadata": {
    "execution": {
     "iopub.execute_input": "2025-09-20T08:09:11.056216Z",
     "iopub.status.busy": "2025-09-20T08:09:11.055872Z",
     "iopub.status.idle": "2025-09-20T08:10:00.023649Z",
     "shell.execute_reply": "2025-09-20T08:10:00.022608Z"
    },
    "papermill": {
     "duration": 48.977788,
     "end_time": "2025-09-20T08:10:00.025681",
     "exception": false,
     "start_time": "2025-09-20T08:09:11.047893",
     "status": "completed"
    },
    "tags": []
   },
   "outputs": [
    {
     "name": "stdout",
     "output_type": "stream",
     "text": [
      "Epoch 1/100\n",
      "\u001b[1m200/200\u001b[0m \u001b[32m━━━━━━━━━━━━━━━━━━━━\u001b[0m\u001b[37m\u001b[0m \u001b[1m3s\u001b[0m 3ms/step - accuracy: 0.5787 - loss: 0.6710 - val_accuracy: 0.7969 - val_loss: 0.4861\n",
      "Epoch 2/100\n",
      "\u001b[1m200/200\u001b[0m \u001b[32m━━━━━━━━━━━━━━━━━━━━\u001b[0m\u001b[37m\u001b[0m \u001b[1m0s\u001b[0m 2ms/step - accuracy: 0.8007 - loss: 0.4733 - val_accuracy: 0.8037 - val_loss: 0.4426\n",
      "Epoch 3/100\n",
      "\u001b[1m200/200\u001b[0m \u001b[32m━━━━━━━━━━━━━━━━━━━━\u001b[0m\u001b[37m\u001b[0m \u001b[1m0s\u001b[0m 2ms/step - accuracy: 0.8030 - loss: 0.4513 - val_accuracy: 0.8256 - val_loss: 0.4164\n",
      "Epoch 4/100\n",
      "\u001b[1m200/200\u001b[0m \u001b[32m━━━━━━━━━━━━━━━━━━━━\u001b[0m\u001b[37m\u001b[0m \u001b[1m0s\u001b[0m 2ms/step - accuracy: 0.8173 - loss: 0.4260 - val_accuracy: 0.8375 - val_loss: 0.4001\n",
      "Epoch 5/100\n",
      "\u001b[1m200/200\u001b[0m \u001b[32m━━━━━━━━━━━━━━━━━━━━\u001b[0m\u001b[37m\u001b[0m \u001b[1m0s\u001b[0m 2ms/step - accuracy: 0.8453 - loss: 0.3830 - val_accuracy: 0.8425 - val_loss: 0.3868\n",
      "Epoch 6/100\n",
      "\u001b[1m200/200\u001b[0m \u001b[32m━━━━━━━━━━━━━━━━━━━━\u001b[0m\u001b[37m\u001b[0m \u001b[1m0s\u001b[0m 2ms/step - accuracy: 0.8467 - loss: 0.3789 - val_accuracy: 0.8394 - val_loss: 0.3754\n",
      "Epoch 7/100\n",
      "\u001b[1m200/200\u001b[0m \u001b[32m━━━━━━━━━━━━━━━━━━━━\u001b[0m\u001b[37m\u001b[0m \u001b[1m0s\u001b[0m 2ms/step - accuracy: 0.8520 - loss: 0.3665 - val_accuracy: 0.8450 - val_loss: 0.3687\n",
      "Epoch 8/100\n",
      "\u001b[1m200/200\u001b[0m \u001b[32m━━━━━━━━━━━━━━━━━━━━\u001b[0m\u001b[37m\u001b[0m \u001b[1m0s\u001b[0m 2ms/step - accuracy: 0.8503 - loss: 0.3617 - val_accuracy: 0.8444 - val_loss: 0.3654\n",
      "Epoch 9/100\n",
      "\u001b[1m200/200\u001b[0m \u001b[32m━━━━━━━━━━━━━━━━━━━━\u001b[0m\u001b[37m\u001b[0m \u001b[1m0s\u001b[0m 2ms/step - accuracy: 0.8668 - loss: 0.3404 - val_accuracy: 0.8431 - val_loss: 0.3620\n",
      "Epoch 10/100\n",
      "\u001b[1m200/200\u001b[0m \u001b[32m━━━━━━━━━━━━━━━━━━━━\u001b[0m\u001b[37m\u001b[0m \u001b[1m0s\u001b[0m 2ms/step - accuracy: 0.8448 - loss: 0.3641 - val_accuracy: 0.8462 - val_loss: 0.3586\n",
      "Epoch 11/100\n",
      "\u001b[1m200/200\u001b[0m \u001b[32m━━━━━━━━━━━━━━━━━━━━\u001b[0m\u001b[37m\u001b[0m \u001b[1m0s\u001b[0m 2ms/step - accuracy: 0.8600 - loss: 0.3500 - val_accuracy: 0.8444 - val_loss: 0.3555\n",
      "Epoch 12/100\n",
      "\u001b[1m200/200\u001b[0m \u001b[32m━━━━━━━━━━━━━━━━━━━━\u001b[0m\u001b[37m\u001b[0m \u001b[1m0s\u001b[0m 2ms/step - accuracy: 0.8645 - loss: 0.3363 - val_accuracy: 0.8487 - val_loss: 0.3539\n",
      "Epoch 13/100\n",
      "\u001b[1m200/200\u001b[0m \u001b[32m━━━━━━━━━━━━━━━━━━━━\u001b[0m\u001b[37m\u001b[0m \u001b[1m0s\u001b[0m 2ms/step - accuracy: 0.8629 - loss: 0.3435 - val_accuracy: 0.8487 - val_loss: 0.3530\n",
      "Epoch 14/100\n",
      "\u001b[1m200/200\u001b[0m \u001b[32m━━━━━━━━━━━━━━━━━━━━\u001b[0m\u001b[37m\u001b[0m \u001b[1m0s\u001b[0m 2ms/step - accuracy: 0.8522 - loss: 0.3543 - val_accuracy: 0.8481 - val_loss: 0.3522\n",
      "Epoch 15/100\n",
      "\u001b[1m200/200\u001b[0m \u001b[32m━━━━━━━━━━━━━━━━━━━━\u001b[0m\u001b[37m\u001b[0m \u001b[1m0s\u001b[0m 2ms/step - accuracy: 0.8565 - loss: 0.3469 - val_accuracy: 0.8506 - val_loss: 0.3505\n",
      "Epoch 16/100\n",
      "\u001b[1m200/200\u001b[0m \u001b[32m━━━━━━━━━━━━━━━━━━━━\u001b[0m\u001b[37m\u001b[0m \u001b[1m0s\u001b[0m 2ms/step - accuracy: 0.8671 - loss: 0.3303 - val_accuracy: 0.8469 - val_loss: 0.3510\n",
      "Epoch 17/100\n",
      "\u001b[1m200/200\u001b[0m \u001b[32m━━━━━━━━━━━━━━━━━━━━\u001b[0m\u001b[37m\u001b[0m \u001b[1m0s\u001b[0m 2ms/step - accuracy: 0.8583 - loss: 0.3440 - val_accuracy: 0.8481 - val_loss: 0.3490\n",
      "Epoch 18/100\n",
      "\u001b[1m200/200\u001b[0m \u001b[32m━━━━━━━━━━━━━━━━━━━━\u001b[0m\u001b[37m\u001b[0m \u001b[1m0s\u001b[0m 2ms/step - accuracy: 0.8569 - loss: 0.3510 - val_accuracy: 0.8500 - val_loss: 0.3489\n",
      "Epoch 19/100\n",
      "\u001b[1m200/200\u001b[0m \u001b[32m━━━━━━━━━━━━━━━━━━━━\u001b[0m\u001b[37m\u001b[0m \u001b[1m0s\u001b[0m 2ms/step - accuracy: 0.8687 - loss: 0.3249 - val_accuracy: 0.8487 - val_loss: 0.3489\n",
      "Epoch 20/100\n",
      "\u001b[1m200/200\u001b[0m \u001b[32m━━━━━━━━━━━━━━━━━━━━\u001b[0m\u001b[37m\u001b[0m \u001b[1m0s\u001b[0m 2ms/step - accuracy: 0.8627 - loss: 0.3371 - val_accuracy: 0.8475 - val_loss: 0.3477\n",
      "Epoch 21/100\n",
      "\u001b[1m200/200\u001b[0m \u001b[32m━━━━━━━━━━━━━━━━━━━━\u001b[0m\u001b[37m\u001b[0m \u001b[1m0s\u001b[0m 2ms/step - accuracy: 0.8597 - loss: 0.3380 - val_accuracy: 0.8487 - val_loss: 0.3471\n",
      "Epoch 22/100\n",
      "\u001b[1m200/200\u001b[0m \u001b[32m━━━━━━━━━━━━━━━━━━━━\u001b[0m\u001b[37m\u001b[0m \u001b[1m0s\u001b[0m 2ms/step - accuracy: 0.8598 - loss: 0.3483 - val_accuracy: 0.8519 - val_loss: 0.3477\n",
      "Epoch 23/100\n",
      "\u001b[1m200/200\u001b[0m \u001b[32m━━━━━━━━━━━━━━━━━━━━\u001b[0m\u001b[37m\u001b[0m \u001b[1m0s\u001b[0m 2ms/step - accuracy: 0.8614 - loss: 0.3455 - val_accuracy: 0.8519 - val_loss: 0.3459\n",
      "Epoch 24/100\n",
      "\u001b[1m200/200\u001b[0m \u001b[32m━━━━━━━━━━━━━━━━━━━━\u001b[0m\u001b[37m\u001b[0m \u001b[1m0s\u001b[0m 2ms/step - accuracy: 0.8665 - loss: 0.3293 - val_accuracy: 0.8481 - val_loss: 0.3458\n",
      "Epoch 25/100\n",
      "\u001b[1m200/200\u001b[0m \u001b[32m━━━━━━━━━━━━━━━━━━━━\u001b[0m\u001b[37m\u001b[0m \u001b[1m0s\u001b[0m 2ms/step - accuracy: 0.8689 - loss: 0.3319 - val_accuracy: 0.8525 - val_loss: 0.3452\n",
      "Epoch 26/100\n",
      "\u001b[1m200/200\u001b[0m \u001b[32m━━━━━━━━━━━━━━━━━━━━\u001b[0m\u001b[37m\u001b[0m \u001b[1m0s\u001b[0m 2ms/step - accuracy: 0.8577 - loss: 0.3461 - val_accuracy: 0.8487 - val_loss: 0.3456\n",
      "Epoch 27/100\n",
      "\u001b[1m200/200\u001b[0m \u001b[32m━━━━━━━━━━━━━━━━━━━━\u001b[0m\u001b[37m\u001b[0m \u001b[1m0s\u001b[0m 2ms/step - accuracy: 0.8650 - loss: 0.3383 - val_accuracy: 0.8506 - val_loss: 0.3455\n",
      "Epoch 28/100\n",
      "\u001b[1m200/200\u001b[0m \u001b[32m━━━━━━━━━━━━━━━━━━━━\u001b[0m\u001b[37m\u001b[0m \u001b[1m0s\u001b[0m 2ms/step - accuracy: 0.8636 - loss: 0.3374 - val_accuracy: 0.8506 - val_loss: 0.3448\n",
      "Epoch 29/100\n",
      "\u001b[1m200/200\u001b[0m \u001b[32m━━━━━━━━━━━━━━━━━━━━\u001b[0m\u001b[37m\u001b[0m \u001b[1m0s\u001b[0m 2ms/step - accuracy: 0.8607 - loss: 0.3377 - val_accuracy: 0.8494 - val_loss: 0.3462\n",
      "Epoch 30/100\n",
      "\u001b[1m200/200\u001b[0m \u001b[32m━━━━━━━━━━━━━━━━━━━━\u001b[0m\u001b[37m\u001b[0m \u001b[1m0s\u001b[0m 2ms/step - accuracy: 0.8607 - loss: 0.3341 - val_accuracy: 0.8494 - val_loss: 0.3447\n",
      "Epoch 31/100\n",
      "\u001b[1m200/200\u001b[0m \u001b[32m━━━━━━━━━━━━━━━━━━━━\u001b[0m\u001b[37m\u001b[0m \u001b[1m0s\u001b[0m 2ms/step - accuracy: 0.8592 - loss: 0.3340 - val_accuracy: 0.8525 - val_loss: 0.3455\n",
      "Epoch 32/100\n",
      "\u001b[1m200/200\u001b[0m \u001b[32m━━━━━━━━━━━━━━━━━━━━\u001b[0m\u001b[37m\u001b[0m \u001b[1m0s\u001b[0m 2ms/step - accuracy: 0.8631 - loss: 0.3267 - val_accuracy: 0.8506 - val_loss: 0.3448\n",
      "Epoch 33/100\n",
      "\u001b[1m200/200\u001b[0m \u001b[32m━━━━━━━━━━━━━━━━━━━━\u001b[0m\u001b[37m\u001b[0m \u001b[1m0s\u001b[0m 2ms/step - accuracy: 0.8655 - loss: 0.3363 - val_accuracy: 0.8519 - val_loss: 0.3448\n",
      "Epoch 34/100\n",
      "\u001b[1m200/200\u001b[0m \u001b[32m━━━━━━━━━━━━━━━━━━━━\u001b[0m\u001b[37m\u001b[0m \u001b[1m0s\u001b[0m 2ms/step - accuracy: 0.8608 - loss: 0.3430 - val_accuracy: 0.8519 - val_loss: 0.3444\n",
      "Epoch 35/100\n",
      "\u001b[1m200/200\u001b[0m \u001b[32m━━━━━━━━━━━━━━━━━━━━\u001b[0m\u001b[37m\u001b[0m \u001b[1m0s\u001b[0m 2ms/step - accuracy: 0.8644 - loss: 0.3342 - val_accuracy: 0.8512 - val_loss: 0.3445\n",
      "Epoch 36/100\n",
      "\u001b[1m200/200\u001b[0m \u001b[32m━━━━━━━━━━━━━━━━━━━━\u001b[0m\u001b[37m\u001b[0m \u001b[1m0s\u001b[0m 2ms/step - accuracy: 0.8588 - loss: 0.3385 - val_accuracy: 0.8519 - val_loss: 0.3443\n",
      "Epoch 37/100\n",
      "\u001b[1m200/200\u001b[0m \u001b[32m━━━━━━━━━━━━━━━━━━━━\u001b[0m\u001b[37m\u001b[0m \u001b[1m0s\u001b[0m 2ms/step - accuracy: 0.8636 - loss: 0.3229 - val_accuracy: 0.8512 - val_loss: 0.3451\n",
      "Epoch 38/100\n",
      "\u001b[1m200/200\u001b[0m \u001b[32m━━━━━━━━━━━━━━━━━━━━\u001b[0m\u001b[37m\u001b[0m \u001b[1m0s\u001b[0m 2ms/step - accuracy: 0.8657 - loss: 0.3282 - val_accuracy: 0.8556 - val_loss: 0.3430\n",
      "Epoch 39/100\n",
      "\u001b[1m200/200\u001b[0m \u001b[32m━━━━━━━━━━━━━━━━━━━━\u001b[0m\u001b[37m\u001b[0m \u001b[1m0s\u001b[0m 2ms/step - accuracy: 0.8632 - loss: 0.3281 - val_accuracy: 0.8550 - val_loss: 0.3432\n",
      "Epoch 40/100\n",
      "\u001b[1m200/200\u001b[0m \u001b[32m━━━━━━━━━━━━━━━━━━━━\u001b[0m\u001b[37m\u001b[0m \u001b[1m0s\u001b[0m 2ms/step - accuracy: 0.8629 - loss: 0.3362 - val_accuracy: 0.8537 - val_loss: 0.3425\n",
      "Epoch 41/100\n",
      "\u001b[1m200/200\u001b[0m \u001b[32m━━━━━━━━━━━━━━━━━━━━\u001b[0m\u001b[37m\u001b[0m \u001b[1m0s\u001b[0m 2ms/step - accuracy: 0.8715 - loss: 0.3243 - val_accuracy: 0.8506 - val_loss: 0.3433\n",
      "Epoch 42/100\n",
      "\u001b[1m200/200\u001b[0m \u001b[32m━━━━━━━━━━━━━━━━━━━━\u001b[0m\u001b[37m\u001b[0m \u001b[1m0s\u001b[0m 2ms/step - accuracy: 0.8512 - loss: 0.3457 - val_accuracy: 0.8537 - val_loss: 0.3435\n",
      "Epoch 43/100\n",
      "\u001b[1m200/200\u001b[0m \u001b[32m━━━━━━━━━━━━━━━━━━━━\u001b[0m\u001b[37m\u001b[0m \u001b[1m0s\u001b[0m 2ms/step - accuracy: 0.8535 - loss: 0.3432 - val_accuracy: 0.8531 - val_loss: 0.3422\n",
      "Epoch 44/100\n",
      "\u001b[1m200/200\u001b[0m \u001b[32m━━━━━━━━━━━━━━━━━━━━\u001b[0m\u001b[37m\u001b[0m \u001b[1m0s\u001b[0m 2ms/step - accuracy: 0.8697 - loss: 0.3219 - val_accuracy: 0.8556 - val_loss: 0.3429\n",
      "Epoch 45/100\n",
      "\u001b[1m200/200\u001b[0m \u001b[32m━━━━━━━━━━━━━━━━━━━━\u001b[0m\u001b[37m\u001b[0m \u001b[1m0s\u001b[0m 2ms/step - accuracy: 0.8624 - loss: 0.3290 - val_accuracy: 0.8594 - val_loss: 0.3420\n",
      "Epoch 46/100\n",
      "\u001b[1m200/200\u001b[0m \u001b[32m━━━━━━━━━━━━━━━━━━━━\u001b[0m\u001b[37m\u001b[0m \u001b[1m0s\u001b[0m 2ms/step - accuracy: 0.8649 - loss: 0.3242 - val_accuracy: 0.8569 - val_loss: 0.3422\n",
      "Epoch 47/100\n",
      "\u001b[1m200/200\u001b[0m \u001b[32m━━━━━━━━━━━━━━━━━━━━\u001b[0m\u001b[37m\u001b[0m \u001b[1m0s\u001b[0m 2ms/step - accuracy: 0.8673 - loss: 0.3258 - val_accuracy: 0.8519 - val_loss: 0.3424\n",
      "Epoch 48/100\n",
      "\u001b[1m200/200\u001b[0m \u001b[32m━━━━━━━━━━━━━━━━━━━━\u001b[0m\u001b[37m\u001b[0m \u001b[1m0s\u001b[0m 2ms/step - accuracy: 0.8667 - loss: 0.3274 - val_accuracy: 0.8550 - val_loss: 0.3413\n",
      "Epoch 49/100\n",
      "\u001b[1m200/200\u001b[0m \u001b[32m━━━━━━━━━━━━━━━━━━━━\u001b[0m\u001b[37m\u001b[0m \u001b[1m0s\u001b[0m 2ms/step - accuracy: 0.8645 - loss: 0.3296 - val_accuracy: 0.8525 - val_loss: 0.3444\n",
      "Epoch 50/100\n",
      "\u001b[1m200/200\u001b[0m \u001b[32m━━━━━━━━━━━━━━━━━━━━\u001b[0m\u001b[37m\u001b[0m \u001b[1m0s\u001b[0m 2ms/step - accuracy: 0.8640 - loss: 0.3352 - val_accuracy: 0.8556 - val_loss: 0.3407\n",
      "Epoch 51/100\n",
      "\u001b[1m200/200\u001b[0m \u001b[32m━━━━━━━━━━━━━━━━━━━━\u001b[0m\u001b[37m\u001b[0m \u001b[1m0s\u001b[0m 2ms/step - accuracy: 0.8670 - loss: 0.3254 - val_accuracy: 0.8562 - val_loss: 0.3416\n",
      "Epoch 52/100\n",
      "\u001b[1m200/200\u001b[0m \u001b[32m━━━━━━━━━━━━━━━━━━━━\u001b[0m\u001b[37m\u001b[0m \u001b[1m0s\u001b[0m 2ms/step - accuracy: 0.8652 - loss: 0.3271 - val_accuracy: 0.8550 - val_loss: 0.3420\n",
      "Epoch 53/100\n",
      "\u001b[1m200/200\u001b[0m \u001b[32m━━━━━━━━━━━━━━━━━━━━\u001b[0m\u001b[37m\u001b[0m \u001b[1m0s\u001b[0m 2ms/step - accuracy: 0.8639 - loss: 0.3278 - val_accuracy: 0.8525 - val_loss: 0.3418\n",
      "Epoch 54/100\n",
      "\u001b[1m200/200\u001b[0m \u001b[32m━━━━━━━━━━━━━━━━━━━━\u001b[0m\u001b[37m\u001b[0m \u001b[1m0s\u001b[0m 2ms/step - accuracy: 0.8660 - loss: 0.3251 - val_accuracy: 0.8537 - val_loss: 0.3417\n",
      "Epoch 55/100\n",
      "\u001b[1m200/200\u001b[0m \u001b[32m━━━━━━━━━━━━━━━━━━━━\u001b[0m\u001b[37m\u001b[0m \u001b[1m0s\u001b[0m 2ms/step - accuracy: 0.8627 - loss: 0.3398 - val_accuracy: 0.8537 - val_loss: 0.3425\n",
      "Epoch 56/100\n",
      "\u001b[1m200/200\u001b[0m \u001b[32m━━━━━━━━━━━━━━━━━━━━\u001b[0m\u001b[37m\u001b[0m \u001b[1m0s\u001b[0m 2ms/step - accuracy: 0.8678 - loss: 0.3274 - val_accuracy: 0.8556 - val_loss: 0.3416\n",
      "Epoch 57/100\n",
      "\u001b[1m200/200\u001b[0m \u001b[32m━━━━━━━━━━━━━━━━━━━━\u001b[0m\u001b[37m\u001b[0m \u001b[1m0s\u001b[0m 2ms/step - accuracy: 0.8671 - loss: 0.3222 - val_accuracy: 0.8531 - val_loss: 0.3424\n",
      "Epoch 58/100\n",
      "\u001b[1m200/200\u001b[0m \u001b[32m━━━━━━━━━━━━━━━━━━━━\u001b[0m\u001b[37m\u001b[0m \u001b[1m0s\u001b[0m 2ms/step - accuracy: 0.8708 - loss: 0.3164 - val_accuracy: 0.8550 - val_loss: 0.3399\n",
      "Epoch 59/100\n",
      "\u001b[1m200/200\u001b[0m \u001b[32m━━━━━━━━━━━━━━━━━━━━\u001b[0m\u001b[37m\u001b[0m \u001b[1m0s\u001b[0m 2ms/step - accuracy: 0.8629 - loss: 0.3379 - val_accuracy: 0.8531 - val_loss: 0.3436\n",
      "Epoch 60/100\n",
      "\u001b[1m200/200\u001b[0m \u001b[32m━━━━━━━━━━━━━━━━━━━━\u001b[0m\u001b[37m\u001b[0m \u001b[1m0s\u001b[0m 2ms/step - accuracy: 0.8754 - loss: 0.3094 - val_accuracy: 0.8594 - val_loss: 0.3412\n",
      "Epoch 61/100\n",
      "\u001b[1m200/200\u001b[0m \u001b[32m━━━━━━━━━━━━━━━━━━━━\u001b[0m\u001b[37m\u001b[0m \u001b[1m0s\u001b[0m 2ms/step - accuracy: 0.8678 - loss: 0.3246 - val_accuracy: 0.8537 - val_loss: 0.3398\n",
      "Epoch 62/100\n",
      "\u001b[1m200/200\u001b[0m \u001b[32m━━━━━━━━━━━━━━━━━━━━\u001b[0m\u001b[37m\u001b[0m \u001b[1m0s\u001b[0m 2ms/step - accuracy: 0.8636 - loss: 0.3305 - val_accuracy: 0.8544 - val_loss: 0.3404\n",
      "Epoch 63/100\n",
      "\u001b[1m200/200\u001b[0m \u001b[32m━━━━━━━━━━━━━━━━━━━━\u001b[0m\u001b[37m\u001b[0m \u001b[1m0s\u001b[0m 2ms/step - accuracy: 0.8654 - loss: 0.3237 - val_accuracy: 0.8569 - val_loss: 0.3421\n",
      "Epoch 64/100\n",
      "\u001b[1m200/200\u001b[0m \u001b[32m━━━━━━━━━━━━━━━━━━━━\u001b[0m\u001b[37m\u001b[0m \u001b[1m0s\u001b[0m 2ms/step - accuracy: 0.8631 - loss: 0.3339 - val_accuracy: 0.8550 - val_loss: 0.3418\n",
      "Epoch 65/100\n",
      "\u001b[1m200/200\u001b[0m \u001b[32m━━━━━━━━━━━━━━━━━━━━\u001b[0m\u001b[37m\u001b[0m \u001b[1m0s\u001b[0m 2ms/step - accuracy: 0.8701 - loss: 0.3194 - val_accuracy: 0.8556 - val_loss: 0.3411\n",
      "Epoch 66/100\n",
      "\u001b[1m200/200\u001b[0m \u001b[32m━━━━━━━━━━━━━━━━━━━━\u001b[0m\u001b[37m\u001b[0m \u001b[1m0s\u001b[0m 2ms/step - accuracy: 0.8578 - loss: 0.3360 - val_accuracy: 0.8537 - val_loss: 0.3418\n",
      "Epoch 67/100\n",
      "\u001b[1m200/200\u001b[0m \u001b[32m━━━━━━━━━━━━━━━━━━━━\u001b[0m\u001b[37m\u001b[0m \u001b[1m0s\u001b[0m 2ms/step - accuracy: 0.8644 - loss: 0.3190 - val_accuracy: 0.8531 - val_loss: 0.3418\n",
      "Epoch 68/100\n",
      "\u001b[1m200/200\u001b[0m \u001b[32m━━━━━━━━━━━━━━━━━━━━\u001b[0m\u001b[37m\u001b[0m \u001b[1m0s\u001b[0m 2ms/step - accuracy: 0.8649 - loss: 0.3178 - val_accuracy: 0.8544 - val_loss: 0.3405\n",
      "Epoch 69/100\n",
      "\u001b[1m200/200\u001b[0m \u001b[32m━━━━━━━━━━━━━━━━━━━━\u001b[0m\u001b[37m\u001b[0m \u001b[1m0s\u001b[0m 2ms/step - accuracy: 0.8634 - loss: 0.3204 - val_accuracy: 0.8556 - val_loss: 0.3406\n",
      "Epoch 70/100\n",
      "\u001b[1m200/200\u001b[0m \u001b[32m━━━━━━━━━━━━━━━━━━━━\u001b[0m\u001b[37m\u001b[0m \u001b[1m0s\u001b[0m 2ms/step - accuracy: 0.8645 - loss: 0.3261 - val_accuracy: 0.8537 - val_loss: 0.3403\n",
      "Epoch 71/100\n",
      "\u001b[1m200/200\u001b[0m \u001b[32m━━━━━━━━━━━━━━━━━━━━\u001b[0m\u001b[37m\u001b[0m \u001b[1m0s\u001b[0m 2ms/step - accuracy: 0.8633 - loss: 0.3294 - val_accuracy: 0.8556 - val_loss: 0.3415\n",
      "Epoch 72/100\n",
      "\u001b[1m200/200\u001b[0m \u001b[32m━━━━━━━━━━━━━━━━━━━━\u001b[0m\u001b[37m\u001b[0m \u001b[1m0s\u001b[0m 2ms/step - accuracy: 0.8651 - loss: 0.3197 - val_accuracy: 0.8525 - val_loss: 0.3412\n",
      "Epoch 73/100\n",
      "\u001b[1m200/200\u001b[0m \u001b[32m━━━━━━━━━━━━━━━━━━━━\u001b[0m\u001b[37m\u001b[0m \u001b[1m0s\u001b[0m 2ms/step - accuracy: 0.8679 - loss: 0.3198 - val_accuracy: 0.8531 - val_loss: 0.3406\n",
      "Epoch 74/100\n",
      "\u001b[1m200/200\u001b[0m \u001b[32m━━━━━━━━━━━━━━━━━━━━\u001b[0m\u001b[37m\u001b[0m \u001b[1m0s\u001b[0m 2ms/step - accuracy: 0.8660 - loss: 0.3240 - val_accuracy: 0.8569 - val_loss: 0.3407\n",
      "Epoch 75/100\n",
      "\u001b[1m200/200\u001b[0m \u001b[32m━━━━━━━━━━━━━━━━━━━━\u001b[0m\u001b[37m\u001b[0m \u001b[1m0s\u001b[0m 2ms/step - accuracy: 0.8638 - loss: 0.3248 - val_accuracy: 0.8575 - val_loss: 0.3422\n",
      "Epoch 76/100\n",
      "\u001b[1m200/200\u001b[0m \u001b[32m━━━━━━━━━━━━━━━━━━━━\u001b[0m\u001b[37m\u001b[0m \u001b[1m0s\u001b[0m 2ms/step - accuracy: 0.8641 - loss: 0.3205 - val_accuracy: 0.8556 - val_loss: 0.3413\n",
      "Epoch 77/100\n",
      "\u001b[1m200/200\u001b[0m \u001b[32m━━━━━━━━━━━━━━━━━━━━\u001b[0m\u001b[37m\u001b[0m \u001b[1m0s\u001b[0m 2ms/step - accuracy: 0.8674 - loss: 0.3162 - val_accuracy: 0.8525 - val_loss: 0.3422\n",
      "Epoch 78/100\n",
      "\u001b[1m200/200\u001b[0m \u001b[32m━━━━━━━━━━━━━━━━━━━━\u001b[0m\u001b[37m\u001b[0m \u001b[1m0s\u001b[0m 2ms/step - accuracy: 0.8738 - loss: 0.3169 - val_accuracy: 0.8537 - val_loss: 0.3413\n",
      "Epoch 79/100\n",
      "\u001b[1m200/200\u001b[0m \u001b[32m━━━━━━━━━━━━━━━━━━━━\u001b[0m\u001b[37m\u001b[0m \u001b[1m0s\u001b[0m 2ms/step - accuracy: 0.8598 - loss: 0.3258 - val_accuracy: 0.8531 - val_loss: 0.3424\n",
      "Epoch 80/100\n",
      "\u001b[1m200/200\u001b[0m \u001b[32m━━━━━━━━━━━━━━━━━━━━\u001b[0m\u001b[37m\u001b[0m \u001b[1m0s\u001b[0m 2ms/step - accuracy: 0.8598 - loss: 0.3263 - val_accuracy: 0.8506 - val_loss: 0.3424\n",
      "Epoch 81/100\n",
      "\u001b[1m200/200\u001b[0m \u001b[32m━━━━━━━━━━━━━━━━━━━━\u001b[0m\u001b[37m\u001b[0m \u001b[1m0s\u001b[0m 2ms/step - accuracy: 0.8626 - loss: 0.3280 - val_accuracy: 0.8519 - val_loss: 0.3424\n",
      "Epoch 82/100\n",
      "\u001b[1m200/200\u001b[0m \u001b[32m━━━━━━━━━━━━━━━━━━━━\u001b[0m\u001b[37m\u001b[0m \u001b[1m0s\u001b[0m 2ms/step - accuracy: 0.8751 - loss: 0.3145 - val_accuracy: 0.8550 - val_loss: 0.3431\n",
      "Epoch 83/100\n",
      "\u001b[1m200/200\u001b[0m \u001b[32m━━━━━━━━━━━━━━━━━━━━\u001b[0m\u001b[37m\u001b[0m \u001b[1m0s\u001b[0m 2ms/step - accuracy: 0.8597 - loss: 0.3318 - val_accuracy: 0.8531 - val_loss: 0.3424\n",
      "Epoch 84/100\n",
      "\u001b[1m200/200\u001b[0m \u001b[32m━━━━━━━━━━━━━━━━━━━━\u001b[0m\u001b[37m\u001b[0m \u001b[1m0s\u001b[0m 2ms/step - accuracy: 0.8664 - loss: 0.3151 - val_accuracy: 0.8506 - val_loss: 0.3426\n",
      "Epoch 85/100\n",
      "\u001b[1m200/200\u001b[0m \u001b[32m━━━━━━━━━━━━━━━━━━━━\u001b[0m\u001b[37m\u001b[0m \u001b[1m0s\u001b[0m 2ms/step - accuracy: 0.8615 - loss: 0.3292 - val_accuracy: 0.8537 - val_loss: 0.3429\n",
      "Epoch 86/100\n",
      "\u001b[1m200/200\u001b[0m \u001b[32m━━━━━━━━━━━━━━━━━━━━\u001b[0m\u001b[37m\u001b[0m \u001b[1m0s\u001b[0m 2ms/step - accuracy: 0.8596 - loss: 0.3238 - val_accuracy: 0.8537 - val_loss: 0.3437\n",
      "Epoch 87/100\n",
      "\u001b[1m200/200\u001b[0m \u001b[32m━━━━━━━━━━━━━━━━━━━━\u001b[0m\u001b[37m\u001b[0m \u001b[1m0s\u001b[0m 2ms/step - accuracy: 0.8678 - loss: 0.3208 - val_accuracy: 0.8531 - val_loss: 0.3434\n",
      "Epoch 88/100\n",
      "\u001b[1m200/200\u001b[0m \u001b[32m━━━━━━━━━━━━━━━━━━━━\u001b[0m\u001b[37m\u001b[0m \u001b[1m0s\u001b[0m 2ms/step - accuracy: 0.8724 - loss: 0.3169 - val_accuracy: 0.8537 - val_loss: 0.3422\n",
      "Epoch 89/100\n",
      "\u001b[1m200/200\u001b[0m \u001b[32m━━━━━━━━━━━━━━━━━━━━\u001b[0m\u001b[37m\u001b[0m \u001b[1m0s\u001b[0m 2ms/step - accuracy: 0.8637 - loss: 0.3235 - val_accuracy: 0.8531 - val_loss: 0.3434\n",
      "Epoch 90/100\n",
      "\u001b[1m200/200\u001b[0m \u001b[32m━━━━━━━━━━━━━━━━━━━━\u001b[0m\u001b[37m\u001b[0m \u001b[1m0s\u001b[0m 2ms/step - accuracy: 0.8665 - loss: 0.3215 - val_accuracy: 0.8506 - val_loss: 0.3443\n",
      "Epoch 91/100\n",
      "\u001b[1m200/200\u001b[0m \u001b[32m━━━━━━━━━━━━━━━━━━━━\u001b[0m\u001b[37m\u001b[0m \u001b[1m0s\u001b[0m 2ms/step - accuracy: 0.8660 - loss: 0.3243 - val_accuracy: 0.8494 - val_loss: 0.3452\n",
      "Epoch 92/100\n",
      "\u001b[1m200/200\u001b[0m \u001b[32m━━━━━━━━━━━━━━━━━━━━\u001b[0m\u001b[37m\u001b[0m \u001b[1m0s\u001b[0m 2ms/step - accuracy: 0.8671 - loss: 0.3237 - val_accuracy: 0.8550 - val_loss: 0.3448\n",
      "Epoch 93/100\n",
      "\u001b[1m200/200\u001b[0m \u001b[32m━━━━━━━━━━━━━━━━━━━━\u001b[0m\u001b[37m\u001b[0m \u001b[1m0s\u001b[0m 2ms/step - accuracy: 0.8646 - loss: 0.3232 - val_accuracy: 0.8519 - val_loss: 0.3454\n",
      "Epoch 94/100\n",
      "\u001b[1m200/200\u001b[0m \u001b[32m━━━━━━━━━━━━━━━━━━━━\u001b[0m\u001b[37m\u001b[0m \u001b[1m0s\u001b[0m 2ms/step - accuracy: 0.8710 - loss: 0.3120 - val_accuracy: 0.8569 - val_loss: 0.3447\n",
      "Epoch 95/100\n",
      "\u001b[1m200/200\u001b[0m \u001b[32m━━━━━━━━━━━━━━━━━━━━\u001b[0m\u001b[37m\u001b[0m \u001b[1m0s\u001b[0m 2ms/step - accuracy: 0.8586 - loss: 0.3318 - val_accuracy: 0.8519 - val_loss: 0.3439\n",
      "Epoch 96/100\n",
      "\u001b[1m200/200\u001b[0m \u001b[32m━━━━━━━━━━━━━━━━━━━━\u001b[0m\u001b[37m\u001b[0m \u001b[1m0s\u001b[0m 2ms/step - accuracy: 0.8633 - loss: 0.3272 - val_accuracy: 0.8544 - val_loss: 0.3467\n",
      "Epoch 97/100\n",
      "\u001b[1m200/200\u001b[0m \u001b[32m━━━━━━━━━━━━━━━━━━━━\u001b[0m\u001b[37m\u001b[0m \u001b[1m0s\u001b[0m 2ms/step - accuracy: 0.8582 - loss: 0.3282 - val_accuracy: 0.8531 - val_loss: 0.3458\n",
      "Epoch 98/100\n",
      "\u001b[1m200/200\u001b[0m \u001b[32m━━━━━━━━━━━━━━━━━━━━\u001b[0m\u001b[37m\u001b[0m \u001b[1m0s\u001b[0m 2ms/step - accuracy: 0.8616 - loss: 0.3264 - val_accuracy: 0.8531 - val_loss: 0.3439\n",
      "Epoch 99/100\n",
      "\u001b[1m200/200\u001b[0m \u001b[32m━━━━━━━━━━━━━━━━━━━━\u001b[0m\u001b[37m\u001b[0m \u001b[1m0s\u001b[0m 2ms/step - accuracy: 0.8658 - loss: 0.3142 - val_accuracy: 0.8525 - val_loss: 0.3440\n",
      "Epoch 100/100\n",
      "\u001b[1m200/200\u001b[0m \u001b[32m━━━━━━━━━━━━━━━━━━━━\u001b[0m\u001b[37m\u001b[0m \u001b[1m0s\u001b[0m 2ms/step - accuracy: 0.8622 - loss: 0.3250 - val_accuracy: 0.8531 - val_loss: 0.3444\n"
     ]
    }
   ],
   "source": [
    "history = model.fit(X_train_scaled,y_train,epochs=100,validation_split=0.2)"
   ]
  },
  {
   "cell_type": "code",
   "execution_count": 23,
   "id": "a906a27b",
   "metadata": {
    "execution": {
     "iopub.execute_input": "2025-09-20T08:10:00.190759Z",
     "iopub.status.busy": "2025-09-20T08:10:00.190442Z",
     "iopub.status.idle": "2025-09-20T08:10:00.200015Z",
     "shell.execute_reply": "2025-09-20T08:10:00.199259Z"
    },
    "papermill": {
     "duration": 0.061445,
     "end_time": "2025-09-20T08:10:00.201424",
     "exception": false,
     "start_time": "2025-09-20T08:10:00.139979",
     "status": "completed"
    },
    "tags": []
   },
   "outputs": [
    {
     "data": {
      "text/plain": [
       "[array([[ 0.00506284, -0.54810685, -0.09264687, -0.10672855,  0.22252822,\n",
       "          0.01023315,  0.08262903, -0.38630608, -0.21255006, -0.21866186,\n",
       "          0.02810385],\n",
       "        [ 0.15043774, -0.29057828,  0.61129993,  0.344646  , -0.8146873 ,\n",
       "          0.31178448, -0.5422794 ,  0.7254958 , -0.04613586, -0.433058  ,\n",
       "          0.6694241 ],\n",
       "        [ 0.0794677 , -0.3865782 ,  0.05005742, -0.07218759, -0.02109901,\n",
       "          0.42197567,  0.42366874,  0.19511048, -0.01252332, -0.16709246,\n",
       "         -0.10631115],\n",
       "        [-0.14742047, -0.10847779, -0.5742085 ,  0.37669048,  0.21463391,\n",
       "         -0.18589951,  0.04916946, -0.04137697, -0.53176093,  0.6710226 ,\n",
       "          0.07031251],\n",
       "        [-1.096755  ,  0.00666547, -0.79287386,  1.156644  , -0.02747992,\n",
       "          0.36616486, -0.31060424, -0.19968233, -0.20369247, -0.30746296,\n",
       "          0.64809316],\n",
       "        [-0.18062863,  0.51186216,  0.09503248, -0.16425878, -0.11539861,\n",
       "          0.61192536,  0.33001697, -0.08467151, -0.47465587,  0.02931121,\n",
       "          0.00760972],\n",
       "        [-0.27901554,  0.6159747 , -0.07184508, -0.07206092, -0.23648387,\n",
       "         -0.41377732, -0.04083182,  0.79320395, -0.0323807 , -0.6343864 ,\n",
       "          0.39236665],\n",
       "        [ 0.18835004,  0.07013767, -0.18852182,  0.04386612,  0.133829  ,\n",
       "          0.54994047, -0.02292055, -0.3546254 , -0.28686526, -0.07694753,\n",
       "          0.27546716],\n",
       "        [ 0.01405598,  0.07953214,  0.57603526, -0.15583378, -0.24082123,\n",
       "          0.40464032,  0.38567016, -0.40577012, -0.02925928,  0.22994575,\n",
       "          0.04530529],\n",
       "        [ 0.05608233, -0.6399535 , -0.15899704, -0.03513017,  0.01635071,\n",
       "          0.21545841, -0.75750256,  0.35906526, -0.0850413 , -0.2940935 ,\n",
       "         -0.2290672 ],\n",
       "        [ 0.06667283,  0.07520241,  0.00569809, -0.03773893,  0.2957752 ,\n",
       "          0.23271544, -0.36374918,  0.17399332,  0.0832559 , -0.37109047,\n",
       "          0.05555636]], dtype=float32),\n",
       " array([ 0.1106073 , -0.14362438,  0.16148795, -0.33174145,  1.0330595 ,\n",
       "         0.17550308,  0.23570885, -0.16597591,  0.73198855,  0.4133011 ,\n",
       "        -0.45559427], dtype=float32)]"
      ]
     },
     "execution_count": 23,
     "metadata": {},
     "output_type": "execute_result"
    }
   ],
   "source": [
    "model.layers[0].get_weights()"
   ]
  },
  {
   "cell_type": "code",
   "execution_count": 24,
   "id": "547215ae",
   "metadata": {
    "execution": {
     "iopub.execute_input": "2025-09-20T08:10:00.300757Z",
     "iopub.status.busy": "2025-09-20T08:10:00.300436Z",
     "iopub.status.idle": "2025-09-20T08:10:00.308269Z",
     "shell.execute_reply": "2025-09-20T08:10:00.307558Z"
    },
    "papermill": {
     "duration": 0.05901,
     "end_time": "2025-09-20T08:10:00.309646",
     "exception": false,
     "start_time": "2025-09-20T08:10:00.250636",
     "status": "completed"
    },
    "tags": []
   },
   "outputs": [
    {
     "data": {
      "text/plain": [
       "[array([[-0.17011404,  0.18923336, -0.19732773,  0.19004728,  0.05514919,\n",
       "          0.70876884,  0.5419937 , -0.28263384, -0.22308809, -0.39735794,\n",
       "         -0.18459255],\n",
       "        [ 0.2502694 , -0.6150509 ,  0.1351972 ,  0.19122534, -0.17251438,\n",
       "          0.12959264, -0.07841206,  0.06576   ,  0.47644433, -0.60010517,\n",
       "          0.679226  ],\n",
       "        [ 0.01081582, -0.19028975, -0.37649745,  0.53022814,  0.23412308,\n",
       "          0.21738109,  0.58789796, -0.38848653, -0.3785019 ,  0.35371053,\n",
       "         -0.66320795],\n",
       "        [-0.03279349,  0.7107551 , -0.03831815, -0.3234381 , -0.5895445 ,\n",
       "          0.9314921 ,  0.6646015 , -0.38179958, -0.06511121, -0.38322183,\n",
       "         -0.11356756],\n",
       "        [ 0.06825347, -0.00632713,  0.40180957,  0.22035354,  0.38505918,\n",
       "         -0.31286106, -0.24791762,  0.15359807, -0.19270942,  0.17115518,\n",
       "          0.32706198],\n",
       "        [ 0.10217579,  0.38791966,  0.11370723, -1.0621216 , -0.08217581,\n",
       "          0.14137591,  0.27138224,  0.0781319 ,  0.07866462,  0.4183973 ,\n",
       "          0.24955681],\n",
       "        [ 0.09063847,  0.6163368 ,  0.02060331, -0.35892242,  0.17299244,\n",
       "         -0.52071685,  0.30987015, -0.05900993,  0.15102139, -0.12113664,\n",
       "          0.35754463],\n",
       "        [ 0.60445476,  0.1881185 , -0.36051005,  0.32560495,  0.4312661 ,\n",
       "          0.21789144, -0.5858659 ,  0.50815505, -0.89568996,  0.48378038,\n",
       "         -0.44205102],\n",
       "        [-0.36608145, -0.28205392,  0.47018465,  0.06033224,  0.0742019 ,\n",
       "         -0.17803246, -0.34993094, -0.05625594,  0.73733807, -0.09425976,\n",
       "          0.46728846],\n",
       "        [-0.19766104, -0.27616712,  0.0782615 ,  0.54150623, -0.5578338 ,\n",
       "         -0.15952899, -0.09964024, -0.4994725 ,  0.41318133, -0.09081592,\n",
       "          0.44908968],\n",
       "        [ 0.06400972, -0.07527921, -0.4097209 , -0.5319254 ,  0.7295042 ,\n",
       "         -0.14079355, -0.12954684,  0.30209947, -0.25477153,  0.91000813,\n",
       "         -0.4599362 ]], dtype=float32),\n",
       " array([ 0.3743633 , -0.15411915,  0.6992559 , -0.06647442,  0.1934623 ,\n",
       "         0.028105  , -0.13449326,  0.43877953,  0.5117276 ,  0.20402528,\n",
       "         0.8052804 ], dtype=float32)]"
      ]
     },
     "execution_count": 24,
     "metadata": {},
     "output_type": "execute_result"
    }
   ],
   "source": [
    "model.layers[1].get_weights()"
   ]
  },
  {
   "cell_type": "code",
   "execution_count": 25,
   "id": "e2275b83",
   "metadata": {
    "execution": {
     "iopub.execute_input": "2025-09-20T08:10:00.408551Z",
     "iopub.status.busy": "2025-09-20T08:10:00.408171Z",
     "iopub.status.idle": "2025-09-20T08:10:00.416567Z",
     "shell.execute_reply": "2025-09-20T08:10:00.415669Z"
    },
    "papermill": {
     "duration": 0.059584,
     "end_time": "2025-09-20T08:10:00.417949",
     "exception": false,
     "start_time": "2025-09-20T08:10:00.358365",
     "status": "completed"
    },
    "tags": []
   },
   "outputs": [
    {
     "data": {
      "text/plain": [
       "[array([[-0.55108863],\n",
       "        [ 0.8875362 ],\n",
       "        [-0.62819093],\n",
       "        [ 0.8059142 ],\n",
       "        [-0.60279745],\n",
       "        [ 1.2978474 ],\n",
       "        [ 0.67412525],\n",
       "        [-0.8272821 ],\n",
       "        [-0.5592081 ],\n",
       "        [-0.736046  ],\n",
       "        [-0.31692085]], dtype=float32),\n",
       " array([-0.2616554], dtype=float32)]"
      ]
     },
     "execution_count": 25,
     "metadata": {},
     "output_type": "execute_result"
    }
   ],
   "source": [
    "model.layers[2].get_weights()"
   ]
  },
  {
   "cell_type": "code",
   "execution_count": 26,
   "id": "779964eb",
   "metadata": {
    "execution": {
     "iopub.execute_input": "2025-09-20T08:10:00.517625Z",
     "iopub.status.busy": "2025-09-20T08:10:00.517299Z",
     "iopub.status.idle": "2025-09-20T08:10:00.792895Z",
     "shell.execute_reply": "2025-09-20T08:10:00.792034Z"
    },
    "papermill": {
     "duration": 0.327321,
     "end_time": "2025-09-20T08:10:00.794602",
     "exception": false,
     "start_time": "2025-09-20T08:10:00.467281",
     "status": "completed"
    },
    "tags": []
   },
   "outputs": [
    {
     "name": "stdout",
     "output_type": "stream",
     "text": [
      "\u001b[1m63/63\u001b[0m \u001b[32m━━━━━━━━━━━━━━━━━━━━\u001b[0m\u001b[37m\u001b[0m \u001b[1m0s\u001b[0m 2ms/step\n"
     ]
    }
   ],
   "source": [
    "y_log = model.predict(X_test_scaled)"
   ]
  },
  {
   "cell_type": "code",
   "execution_count": 27,
   "id": "d79469fd",
   "metadata": {
    "execution": {
     "iopub.execute_input": "2025-09-20T08:10:00.896728Z",
     "iopub.status.busy": "2025-09-20T08:10:00.895920Z",
     "iopub.status.idle": "2025-09-20T08:10:00.900183Z",
     "shell.execute_reply": "2025-09-20T08:10:00.899566Z"
    },
    "papermill": {
     "duration": 0.056669,
     "end_time": "2025-09-20T08:10:00.901573",
     "exception": false,
     "start_time": "2025-09-20T08:10:00.844904",
     "status": "completed"
    },
    "tags": []
   },
   "outputs": [],
   "source": [
    "y_pred = np.where(y_log>0.5,1,0)"
   ]
  },
  {
   "cell_type": "code",
   "execution_count": 28,
   "id": "79332af0",
   "metadata": {
    "execution": {
     "iopub.execute_input": "2025-09-20T08:10:01.004119Z",
     "iopub.status.busy": "2025-09-20T08:10:01.003812Z",
     "iopub.status.idle": "2025-09-20T08:10:01.011426Z",
     "shell.execute_reply": "2025-09-20T08:10:01.010487Z"
    },
    "papermill": {
     "duration": 0.061031,
     "end_time": "2025-09-20T08:10:01.012794",
     "exception": false,
     "start_time": "2025-09-20T08:10:00.951763",
     "status": "completed"
    },
    "tags": []
   },
   "outputs": [
    {
     "data": {
      "text/plain": [
       "0.859"
      ]
     },
     "execution_count": 28,
     "metadata": {},
     "output_type": "execute_result"
    }
   ],
   "source": [
    "from sklearn.metrics import accuracy_score\n",
    "accuracy_score(y_pred,y_test)"
   ]
  },
  {
   "cell_type": "code",
   "execution_count": 29,
   "id": "fe5c1de5",
   "metadata": {
    "execution": {
     "iopub.execute_input": "2025-09-20T08:10:01.114326Z",
     "iopub.status.busy": "2025-09-20T08:10:01.113982Z",
     "iopub.status.idle": "2025-09-20T08:10:01.118132Z",
     "shell.execute_reply": "2025-09-20T08:10:01.117303Z"
    },
    "papermill": {
     "duration": 0.0565,
     "end_time": "2025-09-20T08:10:01.119687",
     "exception": false,
     "start_time": "2025-09-20T08:10:01.063187",
     "status": "completed"
    },
    "tags": []
   },
   "outputs": [],
   "source": [
    "import matplotlib.pyplot as plt"
   ]
  },
  {
   "cell_type": "code",
   "execution_count": 30,
   "id": "d8b4cafe",
   "metadata": {
    "execution": {
     "iopub.execute_input": "2025-09-20T08:10:01.221284Z",
     "iopub.status.busy": "2025-09-20T08:10:01.220975Z",
     "iopub.status.idle": "2025-09-20T08:10:01.228866Z",
     "shell.execute_reply": "2025-09-20T08:10:01.227979Z"
    },
    "papermill": {
     "duration": 0.0599,
     "end_time": "2025-09-20T08:10:01.230107",
     "exception": false,
     "start_time": "2025-09-20T08:10:01.170207",
     "status": "completed"
    },
    "tags": []
   },
   "outputs": [
    {
     "data": {
      "text/plain": [
       "{'accuracy': [0.706250011920929,\n",
       "  0.8003125190734863,\n",
       "  0.8115624785423279,\n",
       "  0.827343761920929,\n",
       "  0.8382812738418579,\n",
       "  0.848437488079071,\n",
       "  0.8501562476158142,\n",
       "  0.8525000214576721,\n",
       "  0.8556249737739563,\n",
       "  0.8551562428474426,\n",
       "  0.8570312261581421,\n",
       "  0.8575000166893005,\n",
       "  0.859375,\n",
       "  0.8581249713897705,\n",
       "  0.860156238079071,\n",
       "  0.860156238079071,\n",
       "  0.8589062690734863,\n",
       "  0.8628125190734863,\n",
       "  0.8621875047683716,\n",
       "  0.8603125214576721,\n",
       "  0.8607812523841858,\n",
       "  0.8603125214576721,\n",
       "  0.862500011920929,\n",
       "  0.8620312213897705,\n",
       "  0.8626562356948853,\n",
       "  0.8635937571525574,\n",
       "  0.8610937595367432,\n",
       "  0.8618749976158142,\n",
       "  0.8609374761581421,\n",
       "  0.8607812523841858,\n",
       "  0.8615624904632568,\n",
       "  0.864062488079071,\n",
       "  0.8642187714576721,\n",
       "  0.8623437285423279,\n",
       "  0.862500011920929,\n",
       "  0.8651562333106995,\n",
       "  0.8635937571525574,\n",
       "  0.8654687404632568,\n",
       "  0.8634374737739563,\n",
       "  0.8637499809265137,\n",
       "  0.8651562333106995,\n",
       "  0.8628125190734863,\n",
       "  0.8643749952316284,\n",
       "  0.8646875023841858,\n",
       "  0.8620312213897705,\n",
       "  0.8671875,\n",
       "  0.8637499809265137,\n",
       "  0.8668749928474426,\n",
       "  0.8637499809265137,\n",
       "  0.8651562333106995,\n",
       "  0.8643749952316284,\n",
       "  0.8651562333106995,\n",
       "  0.8646875023841858,\n",
       "  0.8656250238418579,\n",
       "  0.8656250238418579,\n",
       "  0.8657812476158142,\n",
       "  0.8645312786102295,\n",
       "  0.8645312786102295,\n",
       "  0.8621875047683716,\n",
       "  0.864062488079071,\n",
       "  0.864062488079071,\n",
       "  0.8667187690734863,\n",
       "  0.864062488079071,\n",
       "  0.8660937547683716,\n",
       "  0.8656250238418579,\n",
       "  0.8639062643051147,\n",
       "  0.8642187714576721,\n",
       "  0.8648437261581421,\n",
       "  0.8643749952316284,\n",
       "  0.8635937571525574,\n",
       "  0.8646875023841858,\n",
       "  0.8631250262260437,\n",
       "  0.8657812476158142,\n",
       "  0.8659374713897705,\n",
       "  0.8642187714576721,\n",
       "  0.8637499809265137,\n",
       "  0.8645312786102295,\n",
       "  0.8648437261581421,\n",
       "  0.8645312786102295,\n",
       "  0.8628125190734863,\n",
       "  0.8646875023841858,\n",
       "  0.8653125166893005,\n",
       "  0.8650000095367432,\n",
       "  0.8646875023841858,\n",
       "  0.8635937571525574,\n",
       "  0.86328125,\n",
       "  0.8651562333106995,\n",
       "  0.8673437237739563,\n",
       "  0.8635937571525574,\n",
       "  0.8650000095367432,\n",
       "  0.8643749952316284,\n",
       "  0.8656250238418579,\n",
       "  0.8645312786102295,\n",
       "  0.8659374713897705,\n",
       "  0.864062488079071,\n",
       "  0.8642187714576721,\n",
       "  0.8651562333106995,\n",
       "  0.8651562333106995,\n",
       "  0.8628125190734863,\n",
       "  0.8650000095367432],\n",
       " 'loss': [0.5804464817047119,\n",
       "  0.4664612114429474,\n",
       "  0.43338048458099365,\n",
       "  0.41220390796661377,\n",
       "  0.393668532371521,\n",
       "  0.37961697578430176,\n",
       "  0.369100421667099,\n",
       "  0.3620847761631012,\n",
       "  0.35708722472190857,\n",
       "  0.35321933031082153,\n",
       "  0.3500022888183594,\n",
       "  0.34830692410469055,\n",
       "  0.34709441661834717,\n",
       "  0.3457551896572113,\n",
       "  0.3448886573314667,\n",
       "  0.34292757511138916,\n",
       "  0.34330999851226807,\n",
       "  0.34212127327919006,\n",
       "  0.34120139479637146,\n",
       "  0.3410486578941345,\n",
       "  0.34087884426116943,\n",
       "  0.33949118852615356,\n",
       "  0.3396056890487671,\n",
       "  0.33944451808929443,\n",
       "  0.338553786277771,\n",
       "  0.33808788657188416,\n",
       "  0.33790382742881775,\n",
       "  0.3374563455581665,\n",
       "  0.33715197443962097,\n",
       "  0.3367266058921814,\n",
       "  0.33677494525909424,\n",
       "  0.33651819825172424,\n",
       "  0.33537712693214417,\n",
       "  0.33531561493873596,\n",
       "  0.33507806062698364,\n",
       "  0.3346753716468811,\n",
       "  0.3342477083206177,\n",
       "  0.33391669392585754,\n",
       "  0.33330607414245605,\n",
       "  0.3331142067909241,\n",
       "  0.33263808488845825,\n",
       "  0.33245986700057983,\n",
       "  0.3323625326156616,\n",
       "  0.33155399560928345,\n",
       "  0.3315514028072357,\n",
       "  0.33100199699401855,\n",
       "  0.33142024278640747,\n",
       "  0.3303366005420685,\n",
       "  0.33003631234169006,\n",
       "  0.3304702043533325,\n",
       "  0.32944297790527344,\n",
       "  0.3292923867702484,\n",
       "  0.3301900029182434,\n",
       "  0.3294720947742462,\n",
       "  0.32880088686943054,\n",
       "  0.3289240300655365,\n",
       "  0.3285440504550934,\n",
       "  0.3280622363090515,\n",
       "  0.32808735966682434,\n",
       "  0.32806596159935,\n",
       "  0.32783716917037964,\n",
       "  0.3278089463710785,\n",
       "  0.3266639709472656,\n",
       "  0.32681503891944885,\n",
       "  0.3269149661064148,\n",
       "  0.32646700739860535,\n",
       "  0.3263684809207916,\n",
       "  0.32623982429504395,\n",
       "  0.3262552320957184,\n",
       "  0.3256649672985077,\n",
       "  0.32495227456092834,\n",
       "  0.325967013835907,\n",
       "  0.3256262540817261,\n",
       "  0.3246522843837738,\n",
       "  0.3252287805080414,\n",
       "  0.32445842027664185,\n",
       "  0.32469138503074646,\n",
       "  0.324776828289032,\n",
       "  0.32426929473876953,\n",
       "  0.3239801526069641,\n",
       "  0.32394930720329285,\n",
       "  0.3238658607006073,\n",
       "  0.3237573504447937,\n",
       "  0.323624849319458,\n",
       "  0.3233843743801117,\n",
       "  0.3236744999885559,\n",
       "  0.3233378231525421,\n",
       "  0.32334327697753906,\n",
       "  0.32269638776779175,\n",
       "  0.3232359290122986,\n",
       "  0.3232124447822571,\n",
       "  0.32240498065948486,\n",
       "  0.3228133022785187,\n",
       "  0.32341259717941284,\n",
       "  0.3228379786014557,\n",
       "  0.32215484976768494,\n",
       "  0.3220236301422119,\n",
       "  0.32234352827072144,\n",
       "  0.3218511641025543,\n",
       "  0.32177022099494934],\n",
       " 'val_accuracy': [0.796875,\n",
       "  0.8037499785423279,\n",
       "  0.8256250023841858,\n",
       "  0.8374999761581421,\n",
       "  0.8424999713897705,\n",
       "  0.8393750190734863,\n",
       "  0.8450000286102295,\n",
       "  0.8443750143051147,\n",
       "  0.8431249856948853,\n",
       "  0.8462499976158142,\n",
       "  0.8443750143051147,\n",
       "  0.8487499952316284,\n",
       "  0.8487499952316284,\n",
       "  0.8481249809265137,\n",
       "  0.8506249785423279,\n",
       "  0.846875011920929,\n",
       "  0.8481249809265137,\n",
       "  0.8500000238418579,\n",
       "  0.8487499952316284,\n",
       "  0.8475000262260437,\n",
       "  0.8487499952316284,\n",
       "  0.8518750071525574,\n",
       "  0.8518750071525574,\n",
       "  0.8481249809265137,\n",
       "  0.8525000214576721,\n",
       "  0.8487499952316284,\n",
       "  0.8506249785423279,\n",
       "  0.8506249785423279,\n",
       "  0.8493750095367432,\n",
       "  0.8493750095367432,\n",
       "  0.8525000214576721,\n",
       "  0.8506249785423279,\n",
       "  0.8518750071525574,\n",
       "  0.8518750071525574,\n",
       "  0.8512499928474426,\n",
       "  0.8518750071525574,\n",
       "  0.8512499928474426,\n",
       "  0.8556249737739563,\n",
       "  0.8550000190734863,\n",
       "  0.8537499904632568,\n",
       "  0.8506249785423279,\n",
       "  0.8537499904632568,\n",
       "  0.8531249761581421,\n",
       "  0.8556249737739563,\n",
       "  0.859375,\n",
       "  0.8568750023841858,\n",
       "  0.8518750071525574,\n",
       "  0.8550000190734863,\n",
       "  0.8525000214576721,\n",
       "  0.8556249737739563,\n",
       "  0.856249988079071,\n",
       "  0.8550000190734863,\n",
       "  0.8525000214576721,\n",
       "  0.8537499904632568,\n",
       "  0.8537499904632568,\n",
       "  0.8556249737739563,\n",
       "  0.8531249761581421,\n",
       "  0.8550000190734863,\n",
       "  0.8531249761581421,\n",
       "  0.859375,\n",
       "  0.8537499904632568,\n",
       "  0.8543750047683716,\n",
       "  0.8568750023841858,\n",
       "  0.8550000190734863,\n",
       "  0.8556249737739563,\n",
       "  0.8537499904632568,\n",
       "  0.8531249761581421,\n",
       "  0.8543750047683716,\n",
       "  0.8556249737739563,\n",
       "  0.8537499904632568,\n",
       "  0.8556249737739563,\n",
       "  0.8525000214576721,\n",
       "  0.8531249761581421,\n",
       "  0.8568750023841858,\n",
       "  0.8575000166893005,\n",
       "  0.8556249737739563,\n",
       "  0.8525000214576721,\n",
       "  0.8537499904632568,\n",
       "  0.8531249761581421,\n",
       "  0.8506249785423279,\n",
       "  0.8518750071525574,\n",
       "  0.8550000190734863,\n",
       "  0.8531249761581421,\n",
       "  0.8506249785423279,\n",
       "  0.8537499904632568,\n",
       "  0.8537499904632568,\n",
       "  0.8531249761581421,\n",
       "  0.8537499904632568,\n",
       "  0.8531249761581421,\n",
       "  0.8506249785423279,\n",
       "  0.8493750095367432,\n",
       "  0.8550000190734863,\n",
       "  0.8518750071525574,\n",
       "  0.8568750023841858,\n",
       "  0.8518750071525574,\n",
       "  0.8543750047683716,\n",
       "  0.8531249761581421,\n",
       "  0.8531249761581421,\n",
       "  0.8525000214576721,\n",
       "  0.8531249761581421],\n",
       " 'val_loss': [0.48614636063575745,\n",
       "  0.4426494240760803,\n",
       "  0.41637229919433594,\n",
       "  0.4000755548477173,\n",
       "  0.38679444789886475,\n",
       "  0.3753511309623718,\n",
       "  0.3686901032924652,\n",
       "  0.36540669202804565,\n",
       "  0.3620227575302124,\n",
       "  0.358637273311615,\n",
       "  0.35554423928260803,\n",
       "  0.3538531959056854,\n",
       "  0.35296007990837097,\n",
       "  0.3521772027015686,\n",
       "  0.3505367636680603,\n",
       "  0.3509506583213806,\n",
       "  0.3489669859409332,\n",
       "  0.3489457070827484,\n",
       "  0.34890711307525635,\n",
       "  0.3477368652820587,\n",
       "  0.34714260697364807,\n",
       "  0.3476564288139343,\n",
       "  0.3459015190601349,\n",
       "  0.3457777798175812,\n",
       "  0.34522783756256104,\n",
       "  0.34563109278678894,\n",
       "  0.3454975187778473,\n",
       "  0.3447885513305664,\n",
       "  0.3461804986000061,\n",
       "  0.3447040319442749,\n",
       "  0.3454984426498413,\n",
       "  0.3447972536087036,\n",
       "  0.3447610139846802,\n",
       "  0.3444366455078125,\n",
       "  0.34453898668289185,\n",
       "  0.3443361222743988,\n",
       "  0.34513160586357117,\n",
       "  0.3429826498031616,\n",
       "  0.34315741062164307,\n",
       "  0.34250643849372864,\n",
       "  0.3432532250881195,\n",
       "  0.34346476197242737,\n",
       "  0.3421596586704254,\n",
       "  0.34289759397506714,\n",
       "  0.34200945496559143,\n",
       "  0.34219181537628174,\n",
       "  0.3423663079738617,\n",
       "  0.3413386940956116,\n",
       "  0.3443840444087982,\n",
       "  0.34068620204925537,\n",
       "  0.3415626287460327,\n",
       "  0.3420272171497345,\n",
       "  0.34176838397979736,\n",
       "  0.3416975736618042,\n",
       "  0.3424879312515259,\n",
       "  0.3416191339492798,\n",
       "  0.34239983558654785,\n",
       "  0.33992302417755127,\n",
       "  0.34355753660202026,\n",
       "  0.3411768972873688,\n",
       "  0.3398205041885376,\n",
       "  0.34036704897880554,\n",
       "  0.3420839309692383,\n",
       "  0.3417530953884125,\n",
       "  0.3411084711551666,\n",
       "  0.3417867422103882,\n",
       "  0.34179016947746277,\n",
       "  0.3405221104621887,\n",
       "  0.3405570983886719,\n",
       "  0.3403136134147644,\n",
       "  0.34145107865333557,\n",
       "  0.3412154018878937,\n",
       "  0.3406198024749756,\n",
       "  0.34070372581481934,\n",
       "  0.34223315119743347,\n",
       "  0.341304749250412,\n",
       "  0.3421529531478882,\n",
       "  0.3413117229938507,\n",
       "  0.3423609137535095,\n",
       "  0.34235087037086487,\n",
       "  0.3423595726490021,\n",
       "  0.34314051270484924,\n",
       "  0.34237346053123474,\n",
       "  0.342639684677124,\n",
       "  0.3428731858730316,\n",
       "  0.34372973442077637,\n",
       "  0.3433554172515869,\n",
       "  0.3422197997570038,\n",
       "  0.34343189001083374,\n",
       "  0.34430888295173645,\n",
       "  0.3451686203479767,\n",
       "  0.344816118478775,\n",
       "  0.3454243838787079,\n",
       "  0.34469887614250183,\n",
       "  0.34390780329704285,\n",
       "  0.3466533422470093,\n",
       "  0.3458343744277954,\n",
       "  0.34393981099128723,\n",
       "  0.34399113059043884,\n",
       "  0.34441202878952026]}"
      ]
     },
     "execution_count": 30,
     "metadata": {},
     "output_type": "execute_result"
    }
   ],
   "source": [
    "history.history"
   ]
  },
  {
   "cell_type": "code",
   "execution_count": 31,
   "id": "4eb984fd",
   "metadata": {
    "execution": {
     "iopub.execute_input": "2025-09-20T08:10:01.331063Z",
     "iopub.status.busy": "2025-09-20T08:10:01.330755Z",
     "iopub.status.idle": "2025-09-20T08:10:01.552142Z",
     "shell.execute_reply": "2025-09-20T08:10:01.551281Z"
    },
    "papermill": {
     "duration": 0.273335,
     "end_time": "2025-09-20T08:10:01.553686",
     "exception": false,
     "start_time": "2025-09-20T08:10:01.280351",
     "status": "completed"
    },
    "tags": []
   },
   "outputs": [
    {
     "data": {
      "text/plain": [
       "[<matplotlib.lines.Line2D at 0x7b55d179f310>]"
      ]
     },
     "execution_count": 31,
     "metadata": {},
     "output_type": "execute_result"
    },
    {
     "data": {
      "image/png": "[encoded data removed]",
      "text/plain": [
       "<Figure size 640x480 with 1 Axes>"
      ]
     },
     "metadata": {},
     "output_type": "display_data"
    }
   ],
   "source": [
    "plt.plot(history.history['loss'])\n",
    "plt.plot(history.history['val_loss'])"
   ]
  },
  {
   "cell_type": "code",
   "execution_count": 32,
   "id": "cd4dcb89",
   "metadata": {
    "execution": {
     "iopub.execute_input": "2025-09-20T08:10:01.657383Z",
     "iopub.status.busy": "2025-09-20T08:10:01.656699Z",
     "iopub.status.idle": "2025-09-20T08:10:01.821110Z",
     "shell.execute_reply": "2025-09-20T08:10:01.820184Z"
    },
    "papermill": {
     "duration": 0.217674,
     "end_time": "2025-09-20T08:10:01.822511",
     "exception": false,
     "start_time": "2025-09-20T08:10:01.604837",
     "status": "completed"
    },
    "tags": []
   },
   "outputs": [
    {
     "data": {
      "text/plain": [
       "[<matplotlib.lines.Line2D at 0x7b55d0e36210>]"
      ]
     },
     "execution_count": 32,
     "metadata": {},
     "output_type": "execute_result"
    },
    {
     "data": {
      "image/png": "[encoded data removed]",
      "text/plain": [
       "<Figure size 640x480 with 1 Axes>"
      ]
     },
     "metadata": {},
     "output_type": "display_data"
    }
   ],
   "source": [
    "plt.plot(history.history['accuracy'])\n",
    "plt.plot(history.history['val_accuracy'])"
   ]
  },
  {
   "cell_type": "code",
   "execution_count": null,
   "id": "e70d8537",
   "metadata": {
    "papermill": {
     "duration": 0.051562,
     "end_time": "2025-09-20T08:10:01.926377",
     "exception": false,
     "start_time": "2025-09-20T08:10:01.874815",
     "status": "completed"
    },
    "tags": []
   },
   "outputs": [],
   "source": []
  }
 ],
 "metadata": {
  "kaggle": {
   "accelerator": "none",
   "dataSources": [
    {
     "datasetId": 869651,
     "sourceId": 1481789,
     "sourceType": "datasetVersion"
    },
    {
     "isSourceIdPinned": true,
     "modelId": 454127,
     "modelInstanceId": 437416,
     "sourceId": 585421,
     "sourceType": "modelInstanceVersion"
    }
   ],
   "dockerImageVersionId": 31089,
   "isGpuEnabled": false,
   "isInternetEnabled": false,
   "language": "python",
   "sourceType": "notebook"
  },
  "kernelspec": {
   "display_name": "Python 3",
   "language": "python",
   "name": "python3"
  },
  "language_info": {
   "codemirror_mode": {
    "name": "ipython",
    "version": 3
   },
   "file_extension": ".py",
   "mimetype": "text/x-python",
   "name": "python",
   "nbconvert_exporter": "python",
   "pygments_lexer": "ipython3",
   "version": "3.11.13"
  },
  "papermill": {
   "default_parameters": {},
   "duration": 78.636647,
   "end_time": "2025-09-20T08:10:05.062098",
   "environment_variables": {},
   "exception": null,
   "input_path": "__notebook__.ipynb",
   "output_path": "__notebook__.ipynb",
   "parameters": {},
   "start_time": "2025-09-20T08:08:46.425451",
   "version": "2.6.0"
  }
 },
 "nbformat": 4,
 "nbformat_minor": 5
}
